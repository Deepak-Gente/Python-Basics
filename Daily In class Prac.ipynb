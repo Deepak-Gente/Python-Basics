{
 "cells": [
  {
   "cell_type": "code",
   "execution_count": 1,
   "metadata": {},
   "outputs": [
    {
     "ename": "ValueError",
     "evalue": "invalid literal for int() with base 10: ''",
     "output_type": "error",
     "traceback": [
      "\u001b[1;31m---------------------------------------------------------------------------\u001b[0m",
      "\u001b[1;31mValueError\u001b[0m                                Traceback (most recent call last)",
      "Cell \u001b[1;32mIn[1], line 3\u001b[0m\n\u001b[0;32m      1\u001b[0m \u001b[38;5;66;03m# Find biggest of 3 numbers using conditional statements.\u001b[39;00m\n\u001b[0;32m      2\u001b[0m a\u001b[38;5;241m=\u001b[39m\u001b[38;5;28mint\u001b[39m(\u001b[38;5;28minput\u001b[39m(\u001b[38;5;124m\"\u001b[39m\u001b[38;5;124mEnter the number:\u001b[39m\u001b[38;5;124m\"\u001b[39m))\n\u001b[1;32m----> 3\u001b[0m b\u001b[38;5;241m=\u001b[39m\u001b[38;5;28;43mint\u001b[39;49m\u001b[43m(\u001b[49m\u001b[38;5;28;43minput\u001b[39;49m\u001b[43m(\u001b[49m\u001b[38;5;124;43m\"\u001b[39;49m\u001b[38;5;124;43mEnter the 2nd number:\u001b[39;49m\u001b[38;5;124;43m\"\u001b[39;49m\u001b[43m)\u001b[49m\u001b[43m)\u001b[49m\n\u001b[0;32m      4\u001b[0m c\u001b[38;5;241m=\u001b[39m\u001b[38;5;28mint\u001b[39m(\u001b[38;5;28minput\u001b[39m(\u001b[38;5;124m\"\u001b[39m\u001b[38;5;124mEnter the 3rd Number:\u001b[39m\u001b[38;5;124m\"\u001b[39m))\n\u001b[0;32m      5\u001b[0m \u001b[38;5;28;01mif\u001b[39;00m a\u001b[38;5;241m>\u001b[39mb \u001b[38;5;129;01mand\u001b[39;00m a\u001b[38;5;241m>\u001b[39mc:\n",
      "\u001b[1;31mValueError\u001b[0m: invalid literal for int() with base 10: ''"
     ]
    }
   ],
   "source": [
    "# Find biggest of 3 numbers using conditional statements.\n",
    "a=int(input(\"Enter the number:\"))\n",
    "b=int(input(\"Enter the 2nd number:\"))\n",
    "c=int(input(\"Enter the 3rd Number:\"))\n",
    "if a>b and a>c:\n",
    "    print(\"A is greater\")\n",
    "elif b>c:\n",
    "    print(\"b is greater\")\n",
    "else:\n",
    "    print(\"C is greater\")\n"
   ]
  },
  {
   "cell_type": "code",
   "execution_count": null,
   "metadata": {},
   "outputs": [],
   "source": [
    "# Find biggest of 3 numbers using conditional statements.\n",
    "a=int(input(\"Enter the number:\"))\n",
    "b=int(input(\"Enter the 2nd number:\"))\n",
    "c=int(input(\"Enter the 3rd number:\"))\n",
    "if a>b>c:\n",
    "    print(\"a is greater\")\n",
    "elif b>a>c:\n",
    "    print(\"b is greater\")\n",
    "elif c>b>a:\n",
    "    print(\"c is greater\")\n",
    "    "
   ]
  },
  {
   "cell_type": "code",
   "execution_count": null,
   "metadata": {},
   "outputs": [
    {
     "name": "stdout",
     "output_type": "stream",
     "text": [
      "1 4 7 10 "
     ]
    }
   ],
   "source": [
    "# FOR LOOPS (DAY 5)\n",
    "\n",
    "for i in range (1,13,3):\n",
    "    print(i,end=\" \")"
   ]
  },
  {
   "cell_type": "code",
   "execution_count": null,
   "metadata": {},
   "outputs": [
    {
     "name": "stdout",
     "output_type": "stream",
     "text": [
      "1 2 3 4 5 6 7 8 9 10 11 12 13 14 15 16 17 18 19 "
     ]
    }
   ],
   "source": [
    "for i in range(1,20,1):\n",
    "    print(i,end=\" \")"
   ]
  },
  {
   "cell_type": "code",
   "execution_count": null,
   "metadata": {},
   "outputs": [
    {
     "name": "stdout",
     "output_type": "stream",
     "text": [
      "1 2 3 4 5 6 7 -----------\n",
      "7 6 5 4 3 2 1 "
     ]
    }
   ],
   "source": [
    "n=int(input(\"Enter n value:\"))\n",
    "\n",
    "for i in range(1,n+1):\n",
    "    print(i,end=\" \")\n",
    "    \n",
    "print('-----------')\n",
    "\n",
    "for i in range(n,0,-1):\n",
    "    print(i,end=\" \")"
   ]
  },
  {
   "cell_type": "code",
   "execution_count": null,
   "metadata": {},
   "outputs": [
    {
     "name": "stdout",
     "output_type": "stream",
     "text": [
      "Sum is: 15\n",
      "------------\n",
      "factcorial is:120\n"
     ]
    }
   ],
   "source": [
    "# sum of first n numbers\n",
    "\n",
    "n=5\n",
    "sum=0\n",
    "for i in range(1,n+1):\n",
    "    sum=sum+i\n",
    "\n",
    "print(f'Sum is: {sum}')\n",
    "\n",
    "print(\"------------\")\n",
    "\n",
    "fact=1\n",
    "for i in range(1,n+1):\n",
    "    fact=fact*i\n",
    "\n",
    "print(f\"factcorial is:{fact}\")"
   ]
  },
  {
   "cell_type": "code",
   "execution_count": null,
   "metadata": {},
   "outputs": [
    {
     "name": "stdout",
     "output_type": "stream",
     "text": [
      "5 * 1 = 5\n",
      "5 * 2 = 10\n",
      "5 * 3 = 15\n",
      "5 * 4 = 20\n",
      "5 * 5 = 25\n",
      "5 * 6 = 30\n",
      "5 * 7 = 35\n",
      "5 * 8 = 40\n",
      "5 * 9 = 45\n",
      "5 * 10 = 50\n"
     ]
    }
   ],
   "source": [
    "n=int(input(\"enter table num:\"))\n",
    "for i in range(1,11):\n",
    "    print(f'{n} * {i} = {n*i}')"
   ]
  },
  {
   "cell_type": "code",
   "execution_count": null,
   "metadata": {},
   "outputs": [
    {
     "name": "stdout",
     "output_type": "stream",
     "text": [
      "print evens from 1-10\n",
      "2\n",
      "4\n",
      "6\n",
      "8\n",
      "10\n",
      "--------\n",
      "5\n",
      "----------\n",
      "30\n"
     ]
    }
   ],
   "source": [
    "print(\"print evens from 1-10\")\n",
    "for i in range(1,11):\n",
    "    if i % 2==0:\n",
    "        print(i)\n",
    "        \n",
    "print('--------')\n",
    "\n",
    "# count of even no's.\n",
    "count=0\n",
    "for i in range(1,11):\n",
    "    if i % 2==0:\n",
    "        count+=1\n",
    "print(count)\n",
    "\n",
    "print(\"----------\")\n",
    "\n",
    "# sum of even no's.\n",
    "sum=0\n",
    "for i in range(1,11):\n",
    "    if i%2==0:\n",
    "        sum+=i\n",
    "print(sum)"
   ]
  },
  {
   "cell_type": "code",
   "execution_count": null,
   "metadata": {},
   "outputs": [
    {
     "name": "stdout",
     "output_type": "stream",
     "text": [
      "Sum of numbers divisible by 3 and not divisible by 5 from 1 to 30 is: 120\n"
     ]
    }
   ],
   "source": [
    "# print sum of the numbers divisible by 3 and not divisible by 5\n",
    "\n",
    "sum=0\n",
    "\n",
    "for i in range(1,30):\n",
    "    if i%3==0 and i%5!=0:\n",
    "        sum+=i\n",
    "\n",
    "print(\"Sum of numbers divisible by 3 and not divisible by 5 from 1 to 30 is:\", sum)"
   ]
  },
  {
   "cell_type": "code",
   "execution_count": null,
   "metadata": {},
   "outputs": [
    {
     "name": "stdout",
     "output_type": "stream",
     "text": [
      "1 is a factor\n",
      "2 is a factor\n",
      "3 is a factor\n",
      "6 is a factor\n",
      "-------------------\n",
      "count of factors is 4\n",
      "-------------------\n",
      "factors sum is 12\n"
     ]
    }
   ],
   "source": [
    "# DAY 6(FOR LOOP AND WHILE LOOPS)\n",
    "\n",
    "n=int(input(\"Enter the Number:\"))\n",
    "\n",
    "for i in range (1,n+1):\n",
    "    if n%i==0:\n",
    "        print(f'{i} is a factor')\n",
    "    \n",
    "print('-------------------')     \n",
    "count=0\n",
    "for i in range (1,n+1):\n",
    "    if n%i==0:\n",
    "        count+=1\n",
    "        \n",
    "print(f'count of factors is {count}') \n",
    "\n",
    "print('-------------------')\n",
    "\n",
    "sum=0\n",
    "for i in range (1,n+1):\n",
    "    if n%i==0:\n",
    "        sum+=i\n",
    "\n",
    "print(f'factors sum is {sum}') "
   ]
  },
  {
   "cell_type": "code",
   "execution_count": null,
   "metadata": {},
   "outputs": [
    {
     "name": "stdout",
     "output_type": "stream",
     "text": [
      "7 is a prime number\n"
     ]
    }
   ],
   "source": [
    "# Check num is a prime no or not\n",
    "n=int(input('Enter the number:'))\n",
    "count=0\n",
    "\n",
    "for i in range (1,n+1):\n",
    "    if n%i==0:\n",
    "        count+=1\n",
    "        \n",
    "if (count==2):\n",
    "    print(f'{i} is a prime number')\n",
    "else:\n",
    "    print(f'{i} is not a prime number')\n"
   ]
  },
  {
   "cell_type": "code",
   "execution_count": null,
   "metadata": {},
   "outputs": [
    {
     "name": "stdout",
     "output_type": "stream",
     "text": [
      "Enter 2 nums:\n",
      "sum=30\n",
      "Enter 2 nums:\n",
      "sum=90\n"
     ]
    }
   ],
   "source": [
    "# WHILE LOOPS\n",
    "\n",
    "while True:\n",
    "    print(\"Enter 2 nums:\")\n",
    "    a=int(input())\n",
    "    b=int(input())\n",
    "    \n",
    "    print(f'sum={a+b}')\n",
    "    \n",
    "    choice=input(\"Do you want to stop(y/n):\")\n",
    "    \n",
    "    if choice=='y':\n",
    "        break\n",
    "    "
   ]
  },
  {
   "cell_type": "code",
   "execution_count": null,
   "metadata": {},
   "outputs": [
    {
     "name": "stdout",
     "output_type": "stream",
     "text": [
      "Select the Calculation to perform\n",
      "1. Addition\n",
      "2. Subtraction\n",
      "3. Multiplication\n",
      "4. Exit\n",
      "Enter 2 nums:\n",
      "Addition = 90\n",
      "1. Addition\n",
      "2. Subtraction\n",
      "3. Multiplication\n",
      "4. Exit\n",
      "ENd\n"
     ]
    }
   ],
   "source": [
    "print(\"Select the Calculation to perform\")\n",
    "while True:\n",
    "    print(\"1. Addition\")\n",
    "    print(\"2. Subtraction\")\n",
    "    print(\"3. Multiplication\")\n",
    "    print(\"4. Exit\")\n",
    "    \n",
    "    ch=int(input(\"Enter choice:\"))\n",
    "    if ch==1:\n",
    "        print(\"Enter 2 nums:\")\n",
    "        a=int(input())\n",
    "        b=int(input())\n",
    "        print(f'Addition = {a+b}')\n",
    "    \n",
    "    elif ch==2:\n",
    "        print(\"Enter 2 nums:\")\n",
    "        a=int(input())\n",
    "        b=int(input())\n",
    "        print(f'Subtraction = {a-b}')\n",
    "        \n",
    "    elif ch==3:\n",
    "        print(\"Enter 2 nums:\")\n",
    "        a=int(input())\n",
    "        b=int(input())\n",
    "        print(f'Multiplication = {a*b}')\n",
    "        \n",
    "    elif ch==4:\n",
    "        print('ENd')\n",
    "        break\n",
    "        \n",
    "    else:\n",
    "        print(\"Invalid choice\")"
   ]
  },
  {
   "cell_type": "code",
   "execution_count": null,
   "metadata": {},
   "outputs": [
    {
     "name": "stdout",
     "output_type": "stream",
     "text": [
      "6\n"
     ]
    }
   ],
   "source": [
    "# DAY 6 (DIGIT BASED PROGRAMMING)\n",
    "\n",
    "n=int(input(\"Enter the number:\"))\n",
    "\n",
    "count=0\n",
    "\n",
    "while n!=0:\n",
    "    n=n//10\n",
    "    count+=1\n",
    "    \n",
    "print(count)\n",
    "    "
   ]
  },
  {
   "cell_type": "code",
   "execution_count": null,
   "metadata": {},
   "outputs": [
    {
     "name": "stdout",
     "output_type": "stream",
     "text": [
      "sum of Digits is 17\n"
     ]
    }
   ],
   "source": [
    "n=int(input(\"Enter n value:\"))   # we used 4256 as input\n",
    "\n",
    "sum=0\n",
    "while n>0:\n",
    "    d=n%10\n",
    "    sum=sum+d\n",
    "    n=n//10\n",
    "    \n",
    "print(f'sum of Digits is {sum}')"
   ]
  },
  {
   "cell_type": "code",
   "execution_count": null,
   "metadata": {},
   "outputs": [
    {
     "name": "stdout",
     "output_type": "stream",
     "text": [
      "Even digits are:\n",
      "4\n",
      "6\n",
      "N value:0\n",
      "Even digits count:2\n"
     ]
    }
   ],
   "source": [
    "n=3674\n",
    "print(\"Even digits are:\")\n",
    "while n>0:\n",
    "    d=n%10\n",
    "    if d%2==0:\n",
    "        print(d)\n",
    "    n=n//10\n",
    "    \n",
    "print(f'N value:{n}')\n",
    "\n",
    "n=3674\n",
    "count=0\n",
    "while n>0:\n",
    "    d=n%10\n",
    "    if d%2==0:\n",
    "        count+=1\n",
    "    n=n//10\n",
    "    \n",
    "print(f'Even digits count:{count}')"
   ]
  },
  {
   "cell_type": "code",
   "execution_count": null,
   "metadata": {},
   "outputs": [
    {
     "name": "stdout",
     "output_type": "stream",
     "text": [
      "Even digits are:\n",
      "4\n",
      "6\n",
      "Even digits count:2\n",
      "Sum of all digits: 10\n"
     ]
    }
   ],
   "source": [
    "n=3674\n",
    "count=0\n",
    "sum=0\n",
    "\n",
    "print(\"Even digits are:\")\n",
    "while n>0:\n",
    "    d=n%10\n",
    "    if d%2==0:\n",
    "        print(d)\n",
    "        count+=1\n",
    "        sum+=d\n",
    "    n=n//10\n",
    "    \n",
    "print(f'Even digits count:{count}')\n",
    "print(f'Sum of all digits: {sum}')"
   ]
  },
  {
   "cell_type": "code",
   "execution_count": null,
   "metadata": {},
   "outputs": [
    {
     "name": "stdout",
     "output_type": "stream",
     "text": [
      "Reverse Num of 3674 is: 4763\n"
     ]
    }
   ],
   "source": [
    "# Reverse a Num\n",
    "\n",
    "n=3674\n",
    "rev=0\n",
    "while n>0:\n",
    "    rev=rev*10+n%10\n",
    "    n=n//10\n",
    "\n",
    "print(f'Reverse Num of 3674 is: {rev}')"
   ]
  },
  {
   "cell_type": "code",
   "execution_count": null,
   "metadata": {},
   "outputs": [
    {
     "name": "stdout",
     "output_type": "stream",
     "text": [
      "12321 is a palindrome number\n"
     ]
    }
   ],
   "source": [
    "# palindrome num\n",
    "\n",
    "n=12321\n",
    "\n",
    "rev=0\n",
    "temp=n\n",
    "while n>0:\n",
    "    rev=rev*10+n%10\n",
    "    n=n//10\n",
    "    \n",
    "if temp==rev:\n",
    "    print(f'{temp} is a palindrome number')\n",
    "else:\n",
    "    print(f'{temp} is not a palindrome number')"
   ]
  },
  {
   "cell_type": "code",
   "execution_count": null,
   "metadata": {},
   "outputs": [
    {
     "name": "stdout",
     "output_type": "stream",
     "text": [
      "Hi\n",
      "Hello\n",
      "Welcome\n",
      "Hi\n",
      "Hello\n",
      "Welcome\n"
     ]
    }
   ],
   "source": [
    "# DAY 8\n",
    "\n",
    "# FUNCTIONS\n",
    "\n",
    "def message():\n",
    "    print(\"Hi\")\n",
    "    print(\"Hello\")\n",
    "    print(\"Welcome\")\n",
    "    return \n",
    "\n",
    "message()\n",
    "message()\n"
   ]
  },
  {
   "cell_type": "code",
   "execution_count": null,
   "metadata": {},
   "outputs": [
    {
     "name": "stdout",
     "output_type": "stream",
     "text": [
      "Hi\n",
      "Hello\n",
      "Welcome\n",
      "Hi\n",
      "Hello\n",
      "Welcome\n",
      "Hi\n",
      "Hello\n",
      "Welcome\n",
      "Hi\n",
      "Hello\n",
      "Welcome\n",
      "Hi\n",
      "Hello\n",
      "Welcome\n"
     ]
    }
   ],
   "source": [
    "def message():\n",
    "    print(\"Hi\")\n",
    "    print(\"Hello\")\n",
    "    print(\"Welcome\")\n",
    "    return \n",
    "\n",
    "for i in range(5):\n",
    "    message()"
   ]
  },
  {
   "cell_type": "code",
   "execution_count": null,
   "metadata": {},
   "outputs": [
    {
     "name": "stdout",
     "output_type": "stream",
     "text": [
      "abc....\n",
      "xyz...\n",
      "xyz...\n",
      "pqr....\n"
     ]
    }
   ],
   "source": [
    "def abc():\n",
    "    print(\"abc....\")\n",
    "    return abc\n",
    "\n",
    "\n",
    "def xyz():\n",
    "    print(\"xyz...\")\n",
    "    return xyz\n",
    "\n",
    "\n",
    "def pqr():\n",
    "    print(\"pqr....\")\n",
    "    return \n",
    "\n",
    "\n",
    "abc()\n",
    "xyz()\n",
    "xyz()\n",
    "pqr()"
   ]
  },
  {
   "cell_type": "code",
   "execution_count": null,
   "metadata": {},
   "outputs": [
    {
     "name": "stdout",
     "output_type": "stream",
     "text": [
      "sum = 6\n"
     ]
    }
   ],
   "source": [
    "def add(a,b):\n",
    "    c=a+b\n",
    "    print(f'sum = {c}')\n",
    "    return\n",
    "\n",
    "add(3,3)"
   ]
  },
  {
   "cell_type": "code",
   "execution_count": null,
   "metadata": {},
   "outputs": [],
   "source": [
    "# return values by asking the input values\n",
    "def add (a,b):\n",
    "    c=a+b\n",
    "    print(f\"sum:{c}\")\n",
    "    return\n",
    "\n",
    "print(\"Enter 2 nums:\")\n"
   ]
  },
  {
   "cell_type": "code",
   "execution_count": null,
   "metadata": {},
   "outputs": [
    {
     "name": "stdout",
     "output_type": "stream",
     "text": [
      "25\n"
     ]
    }
   ],
   "source": [
    "def add(a,b):\n",
    "    c= a+b\n",
    "    return c\n",
    "\n",
    "res=add(12,13)\n",
    "print(res)"
   ]
  },
  {
   "cell_type": "code",
   "execution_count": null,
   "metadata": {},
   "outputs": [
    {
     "name": "stdout",
     "output_type": "stream",
     "text": [
      "Not even Number\n"
     ]
    }
   ],
   "source": [
    "def is_even(num):\n",
    "    if num%2==0:\n",
    "        return \"Even Number\"\n",
    "    else:\n",
    "        return \"Not even Number\"\n",
    "    \n",
    "res=is_even(13)\n",
    "print(res)"
   ]
  },
  {
   "cell_type": "code",
   "execution_count": null,
   "metadata": {},
   "outputs": [
    {
     "name": "stdout",
     "output_type": "stream",
     "text": [
      "Type is: Digit\n"
     ]
    }
   ],
   "source": [
    "def type_of(ch):\n",
    "    if ch>=\"A\" and ch<=\"Z\":\n",
    "        return \"Upper case alphabet\"\n",
    "    elif ch>=\"a\" and ch<=\"z\":\n",
    "        return \"Lower case alphabet\"\n",
    "    elif ch>=\"0\" and ch<=\"9\":\n",
    "        return \"Digit\"\n",
    "    else:\n",
    "        return \"Symbol\"\n",
    "\n",
    "ch=input(\"Enter Character:\")\n",
    "res=type_of(ch)\n",
    "print(f\"Type is: {res}\")\n",
    "    "
   ]
  },
  {
   "cell_type": "code",
   "execution_count": null,
   "metadata": {},
   "outputs": [
    {
     "name": "stdout",
     "output_type": "stream",
     "text": [
      "10 40 30\n",
      "15 20 30\n",
      "2.3 A xyz\n"
     ]
    }
   ],
   "source": [
    "# DEFAULT ARGUMENTS\n",
    "\n",
    "def test(a=10,b=20,c=30):\n",
    "    print(a,b,c)\n",
    "    return\n",
    "\n",
    "test()\n",
    "test(15)\n",
    "test(2.3, 'A','xyz')"
   ]
  },
  {
   "cell_type": "code",
   "execution_count": null,
   "metadata": {},
   "outputs": [
    {
     "name": "stdout",
     "output_type": "stream",
     "text": [
      "Name: Amar, Age: 23\n",
      "Name: 21, Age: Annie\n",
      "Name: Annie, Age: 21\n"
     ]
    }
   ],
   "source": [
    "def data(name,age):\n",
    "    print(f\"Name: {name}, Age: {age}\")\n",
    "    return\n",
    "\n",
    "data(\"Amar\", 23)\n",
    "data(21,\"Annie\")  #Its wrong here\n",
    "data(age=21,name=\"Annie\")"
   ]
  },
  {
   "cell_type": "code",
   "execution_count": null,
   "metadata": {},
   "outputs": [
    {
     "name": "stdout",
     "output_type": "stream",
     "text": [
      "10 20 35 40\n"
     ]
    }
   ],
   "source": [
    "def test(a=10,b=20,c=30,d=40):\n",
    "    print(a,b,c,d)\n",
    "    return\n",
    "\n",
    "test(c=35)"
   ]
  },
  {
   "cell_type": "code",
   "execution_count": null,
   "metadata": {},
   "outputs": [
    {
     "name": "stdout",
     "output_type": "stream",
     "text": [
      "black circle with radius 50 @ loc 0,0\n"
     ]
    }
   ],
   "source": [
    "def circle(x=0,y=0,color=\"black\", r=50):\n",
    "    print(f\"{color} circle with radius {r} @ loc {x},{y}\")\n",
    "    return\n",
    "\n",
    "circle()"
   ]
  },
  {
   "cell_type": "code",
   "execution_count": null,
   "metadata": {},
   "outputs": [
    {
     "name": "stdout",
     "output_type": "stream",
     "text": [
      "()\n",
      "(10, 20, 20, 30, 49)\n",
      "(21, 'Amar', 35000, 'M')\n"
     ]
    }
   ],
   "source": [
    "# Variable args\n",
    "\n",
    "def test(*arr):\n",
    "    print(arr)\n",
    "    return\n",
    "\n",
    "test()\n",
    "test(10,20,20,30,49)\n",
    "test(21,\"Amar\", 35000, \"M\")"
   ]
  },
  {
   "cell_type": "code",
   "execution_count": null,
   "metadata": {},
   "outputs": [
    {
     "name": "stdout",
     "output_type": "stream",
     "text": [
      "101, Amar, 35000\n"
     ]
    }
   ],
   "source": [
    "# 03/12/2025\n",
    "# OOPS\n",
    "\n",
    "class Employee:\n",
    "    def __init__(self, num, name,salary):\n",
    "        self.num=num\n",
    "        self.name=name\n",
    "        self.salary=salary\n",
    "        return\n",
    "    \n",
    "    def details(self):\n",
    "        print(f\"{self.num}, {self.name}, {self.salary}\")\n",
    "        return\n",
    "    \n",
    "e1=Employee(101, \"Amar\", 35000)\n",
    "\n",
    "e1.details()"
   ]
  },
  {
   "cell_type": "code",
   "execution_count": null,
   "metadata": {},
   "outputs": [
    {
     "name": "stdout",
     "output_type": "stream",
     "text": [
      "a val: 10\n"
     ]
    },
    {
     "ename": "AttributeError",
     "evalue": "type object 'First' has no attribute '__b'",
     "output_type": "error",
     "traceback": [
      "\u001b[1;31m---------------------------------------------------------------------------\u001b[0m",
      "\u001b[1;31mAttributeError\u001b[0m                            Traceback (most recent call last)",
      "Cell \u001b[1;32mIn[3], line 11\u001b[0m\n\u001b[0;32m      8\u001b[0m     __b\u001b[38;5;241m=\u001b[39m\u001b[38;5;241m20\u001b[39m \u001b[38;5;66;03m# private static\u001b[39;00m\n\u001b[0;32m     10\u001b[0m \u001b[38;5;28mprint\u001b[39m(\u001b[38;5;124mf\u001b[39m\u001b[38;5;124m\"\u001b[39m\u001b[38;5;124ma val: \u001b[39m\u001b[38;5;132;01m{\u001b[39;00mFirst\u001b[38;5;241m.\u001b[39ma\u001b[38;5;132;01m}\u001b[39;00m\u001b[38;5;124m\"\u001b[39m)\n\u001b[1;32m---> 11\u001b[0m \u001b[38;5;28mprint\u001b[39m(\u001b[38;5;124mf\u001b[39m\u001b[38;5;124m\"\u001b[39m\u001b[38;5;124m b val: \u001b[39m\u001b[38;5;132;01m{\u001b[39;00m\u001b[43mFirst\u001b[49m\u001b[38;5;241;43m.\u001b[39;49m\u001b[43m__b\u001b[49m\u001b[38;5;132;01m}\u001b[39;00m\u001b[38;5;124m\"\u001b[39m)\n",
      "\u001b[1;31mAttributeError\u001b[0m: type object 'First' has no attribute '__b'"
     ]
    }
   ],
   "source": [
    "# var => public(direct access)\n",
    "# __var => private(no direct access)\n",
    "\n",
    "# static variables\n",
    "\n",
    "class First:\n",
    "    a=10 # public static\n",
    "    __b=20 # private static\n",
    "    \n",
    "print(f\"a val: {First.a}\")\n",
    "print(f\" b val: {First.__b}\")"
   ]
  },
  {
   "cell_type": "code",
   "execution_count": null,
   "metadata": {},
   "outputs": [
    {
     "name": "stdout",
     "output_type": "stream",
     "text": [
      "a val: 10\n"
     ]
    }
   ],
   "source": [
    "# static variables\n",
    "\n",
    "class First:\n",
    "    __a=10\n",
    "    \n",
    "    def get_a():\n",
    "        return First.__a;\n",
    "    \n",
    "\n",
    "# print(f\"a val: {First.__a}\")  # Error\n",
    "print(f\"a val: {First.get_a()}\")"
   ]
  },
  {
   "cell_type": "code",
   "execution_count": null,
   "metadata": {},
   "outputs": [
    {
     "name": "stdout",
     "output_type": "stream",
     "text": [
      " a val : 10\n",
      " a val : 20\n"
     ]
    }
   ],
   "source": [
    "# static variables\n",
    "\n",
    "class First:\n",
    "    __a=10\n",
    "    \n",
    "    def get_a():\n",
    "        return First.__a;\n",
    "    \n",
    "    def set_a(a):\n",
    "        First.__a=a\n",
    "        return\n",
    "    \n",
    "print(f\" a val : {First.get_a()}\")\n",
    "First.set_a(20)\n",
    "print(f\" a val : {First.get_a()}\")"
   ]
  },
  {
   "cell_type": "code",
   "execution_count": null,
   "metadata": {},
   "outputs": [
    {
     "name": "stdout",
     "output_type": "stream",
     "text": [
      "age is: 21\n",
      "name is: Amar\n",
      "height is: 5.7\n"
     ]
    }
   ],
   "source": [
    "class Test:\n",
    "    __age=21\n",
    "    __name=\"Amar\"\n",
    "    __height=5.7\n",
    "    \n",
    "    def get_age():\n",
    "        return Test.__age\n",
    "    \n",
    "    def get_name():\n",
    "        return Test.__name\n",
    "    \n",
    "    def get_height():\n",
    "        return Test.__height\n",
    "    \n",
    "print(f\"age is: {Test.get_age()}\")\n",
    "print(f\"name is: {Test.get_name()}\")\n",
    "print(f\"height is: {Test.get_height()}\")\n"
   ]
  },
  {
   "cell_type": "code",
   "execution_count": null,
   "metadata": {},
   "outputs": [
    {
     "name": "stdout",
     "output_type": "stream",
     "text": [
      "age is: 21\n",
      "age is: 23\n",
      "name is: Amar\n",
      "name is: Deepak\n",
      "height is: 5.7\n",
      "height is: 6.11\n"
     ]
    }
   ],
   "source": [
    "class Test:\n",
    "    __age=21\n",
    "    __name=\"Amar\"\n",
    "    __height=5.7\n",
    "    \n",
    "    def get_age():\n",
    "        return Test.__age\n",
    "    \n",
    "    def get_name():\n",
    "        return Test.__name\n",
    "    \n",
    "    def get_height():\n",
    "        return Test.__height\n",
    "    \n",
    "    def set_age(age):\n",
    "        Test.__age=age\n",
    "        return\n",
    "    \n",
    "    def set_name(name):\n",
    "        Test.__name=name\n",
    "        return\n",
    "    \n",
    "    def set_height(h):\n",
    "        Test.__height=h\n",
    "        return\n",
    "    \n",
    "print(f\"age is: {Test.get_age()}\")\n",
    "Test.set_age(23)\n",
    "print(f\"age is: {Test.get_age()}\")\n",
    "print(f\"name is: {Test.get_name()}\")\n",
    "Test.set_name(\"Deepak\")\n",
    "print(f\"name is: {Test.get_name()}\")\n",
    "print(f\"height is: {Test.get_height()}\")\n",
    "Test.set_height(6.11)\n",
    "print(f\"height is: {Test.get_height()}\")\n"
   ]
  },
  {
   "cell_type": "code",
   "execution_count": null,
   "metadata": {},
   "outputs": [
    {
     "name": "stdout",
     "output_type": "stream",
     "text": [
      "a val: 10\n",
      "a val: 20\n"
     ]
    }
   ],
   "source": [
    "# OOPS\n",
    "\n",
    "class Test:\n",
    "    __a=10\n",
    "    \n",
    "    def get_a():\n",
    "        return Test.__a\n",
    "    \n",
    "    def set_a(a):\n",
    "        Test.__a=a\n",
    "        return\n",
    "    \n",
    "print(f\"a val: {Test.get_a()}\")\n",
    "Test.set_a(20)\n",
    "print(f\"a val: {Test.get_a()}\")\n",
    "\n",
    "    "
   ]
  },
  {
   "cell_type": "code",
   "execution_count": null,
   "metadata": {},
   "outputs": [
    {
     "name": "stdout",
     "output_type": "stream",
     "text": [
      "a val: 10\n",
      "a val: 20\n"
     ]
    }
   ],
   "source": [
    "class Test:\n",
    "    def __init__(self):\n",
    "        self.__a=10\n",
    "        return\n",
    "    \n",
    "    def get_a(self):\n",
    "        return self.__a\n",
    "    \n",
    "    def set_a(self,a):\n",
    "        self.__a=a\n",
    "        return\n",
    "    \n",
    "obj=Test()\n",
    "print(f\"a val: {obj.get_a()}\")\n",
    "obj.set_a(20)\n",
    "print(f\"a val: {obj.get_a()}\")\n"
   ]
  },
  {
   "cell_type": "code",
   "execution_count": null,
   "metadata": {},
   "outputs": [
    {
     "name": "stdout",
     "output_type": "stream",
     "text": [
      " Details: 1001, Amar, 5000\n",
      "Name is :Amaran\n",
      "Details: 1001, Amaran, 5000\n"
     ]
    }
   ],
   "source": [
    "# Using public variables\n",
    "class account:\n",
    "    def __init__(self, num, name, balance):\n",
    "        self.num=num              # Public variables\n",
    "        self.name=name\n",
    "        self.balance=balance\n",
    "        return\n",
    "    \n",
    "    def details(self):\n",
    "        return f\"{self.num}, {self.name}, {self.balance}\"\n",
    "    \n",
    "    def set_num(self,num):\n",
    "        self.num=num\n",
    "        return\n",
    "    \n",
    "    def get_num(self):\n",
    "        return self.num\n",
    "    \n",
    "    def set_name(self, name):\n",
    "        self.name=name\n",
    "        return\n",
    "    \n",
    "    def get_name(self):\n",
    "        return self.name\n",
    "    \n",
    "    \n",
    "acc=account(1001,\"Amar\", 5000)\n",
    "print(f\" Details: {acc.details()}\")\n",
    "\n",
    "acc.set_name(\"Amaran\")\n",
    "print(f\"Name is :{acc.get_name()}\")\n",
    "print(f\"Details: {acc.details()}\")\n"
   ]
  },
  {
   "cell_type": "code",
   "execution_count": null,
   "metadata": {},
   "outputs": [
    {
     "name": "stdout",
     "output_type": "stream",
     "text": [
      "Details: 1001, Amar, 5000\n",
      "Name is :Amaran\n",
      "Details: 1001, Amaran, 5000\n"
     ]
    }
   ],
   "source": [
    "\n",
    "# Using private variables\n",
    "class account:\n",
    "    def __init__(self, num, name, balance):\n",
    "        self.__num=num\n",
    "        self.__name=name\n",
    "        self.__balance=balance\n",
    "        return\n",
    "    \n",
    "    def details(self):\n",
    "        return f\"{self.__num}, {self.__name}, {self.__balance}\"\n",
    "    \n",
    "    def set_num(self,num):\n",
    "        self.__num=num\n",
    "        return\n",
    "    \n",
    "    def get_num(self):\n",
    "        return self.__num\n",
    "    \n",
    "    def set_name(self, name):\n",
    "        self.__name=name\n",
    "        return\n",
    "    \n",
    "    def get_name(self):\n",
    "        return self.__name\n",
    "    \n",
    "    \n",
    "acc=account(1001,\"Amar\", 5000)\n",
    "print(f\"Details: {acc.details()}\")\n",
    "\n",
    "acc.set_name(\"Amaran\")\n",
    "print(f\"Name is :{acc.get_name()}\")\n",
    "print(f\"Details: {acc.details()}\")\n"
   ]
  },
  {
   "cell_type": "code",
   "execution_count": null,
   "metadata": {},
   "outputs": [
    {
     "name": "stdout",
     "output_type": "stream",
     "text": [
      "Paren-m1\n",
      "Child-m2\n",
      "Child-m2\n"
     ]
    }
   ],
   "source": [
    "# Monday(03/16/2025)\n",
    "\n",
    "class parent:\n",
    "    def m1(self):\n",
    "        print(\"Paren-m1\")\n",
    "        return\n",
    "    \n",
    "    def m2(self):\n",
    "        print(\"Parent - m2\")\n",
    "        return\n",
    "    \n",
    "class child(parent):\n",
    "    def m2(self):         # RE-writing or overriding\n",
    "        print(\"Child-m2\")\n",
    "        return\n",
    "    \n",
    "obj=child()\n",
    "obj.m1()\n",
    "obj.m2()\n",
    "obj.m2()"
   ]
  },
  {
   "cell_type": "code",
   "execution_count": null,
   "metadata": {},
   "outputs": [],
   "source": [
    "class Galaxy:\n",
    "    def call(self):\n",
    "        print(\"Galaxy-call\")\n",
    "        return\n",
    "    \n",
    "    def camera(self):\n",
    "        print(\"Galaxy - 12MP\")\n",
    "        return\n",
    "    \n",
    "    "
   ]
  },
  {
   "cell_type": "code",
   "execution_count": null,
   "metadata": {},
   "outputs": [
    {
     "name": "stdout",
     "output_type": "stream",
     "text": [
      "A-m1\n",
      "B-m2\n"
     ]
    },
    {
     "ename": "AttributeError",
     "evalue": "'B' object has no attribute 'm3'",
     "output_type": "error",
     "traceback": [
      "\u001b[1;31m---------------------------------------------------------------------------\u001b[0m",
      "\u001b[1;31mAttributeError\u001b[0m                            Traceback (most recent call last)",
      "Cell \u001b[1;32mIn[16], line 19\u001b[0m\n\u001b[0;32m     17\u001b[0m b\u001b[38;5;241m.\u001b[39mm1()\n\u001b[0;32m     18\u001b[0m b\u001b[38;5;241m.\u001b[39mm2()\n\u001b[1;32m---> 19\u001b[0m \u001b[43mb\u001b[49m\u001b[38;5;241;43m.\u001b[39;49m\u001b[43mm3\u001b[49m()\n",
      "\u001b[1;31mAttributeError\u001b[0m: 'B' object has no attribute 'm3'"
     ]
    }
   ],
   "source": [
    "class A:\n",
    "    def m1(self):\n",
    "        print(\"A-m1\")\n",
    "        return\n",
    " \n",
    "class B(A):   \n",
    "    def m2(self):\n",
    "        print(\"B-m2\")\n",
    "        return\n",
    "\n",
    "class C(A):    \n",
    "    def m3(self):\n",
    "        print(\"C-m3\")\n",
    "        return\n",
    "    \n",
    "b=B()\n",
    "b.m1()\n",
    "b.m2()\n",
    "b.m3()    # we get error for this\n",
    "        "
   ]
  },
  {
   "cell_type": "code",
   "execution_count": 2,
   "metadata": {},
   "outputs": [],
   "source": [
    "import time\n",
    "from threading import Thread\n",
    "class First(Thread):\n",
    "    def run(self):\n",
    "        for i in range(1,6):\n",
    "            print(f\"First: {i}\")\n",
    "            time.sleep(1)\n",
    "        return"
   ]
  },
  {
   "cell_type": "code",
   "execution_count": 1,
   "metadata": {},
   "outputs": [
    {
     "name": "stdout",
     "output_type": "stream",
     "text": [
      "[10 20 30 40]\n"
     ]
    }
   ],
   "source": [
    "import numpy as np\n",
    "List=[10,20,30,40]\n",
    "Arr=np.array(List)\n",
    "print(Arr)"
   ]
  },
  {
   "cell_type": "code",
   "execution_count": 2,
   "metadata": {},
   "outputs": [
    {
     "name": "stdout",
     "output_type": "stream",
     "text": [
      "10\n",
      "20\n",
      "30\n",
      "20\n"
     ]
    }
   ],
   "source": [
    "import numpy as np\n",
    "Arr=np.array([10,20,30,20])\n",
    "\n",
    "for ele in Arr:\n",
    "    print(ele)"
   ]
  },
  {
   "cell_type": "code",
   "execution_count": 3,
   "metadata": {},
   "outputs": [
    {
     "name": "stdout",
     "output_type": "stream",
     "text": [
      "0.0\n",
      "8.230761970335e-312\n",
      "8.23076196559e-312\n",
      "8.230761969545e-312\n",
      "0.0\n"
     ]
    }
   ],
   "source": [
    "import numpy as np\n",
    "Arr=np.empty(5)\n",
    "\n",
    "for ele in Arr:\n",
    "    print(ele)"
   ]
  },
  {
   "cell_type": "code",
   "execution_count": 4,
   "metadata": {},
   "outputs": [
    {
     "name": "stdout",
     "output_type": "stream",
     "text": [
      "Array: [10 20 30 40]\n",
      "Size : 4\n",
      "Shape : (4,)\n",
      "Type : int32\n",
      "Dim : 1\n"
     ]
    }
   ],
   "source": [
    "import numpy as np\n",
    "arr=np.array([10,20,30,40])\n",
    "print(\"Array:\",arr)\n",
    "print(\"Size :\", arr.size)\n",
    "print(\"Shape :\", arr.shape)\n",
    "print(\"Type :\", arr.dtype)\n",
    "print(\"Dim :\", arr.ndim)"
   ]
  },
  {
   "cell_type": "code",
   "execution_count": 7,
   "metadata": {},
   "outputs": [
    {
     "name": "stdout",
     "output_type": "stream",
     "text": [
      "Array: [[10 20 30]\n",
      " [40 50 60]]\n",
      "Size : 6\n",
      "Shape : (2, 3)\n",
      "Type : int32\n",
      "Dim : 2\n"
     ]
    }
   ],
   "source": [
    "import numpy as np\n",
    "arr=np.array([[10,20,30],[40,50,60]])\n",
    "print(\"Array:\",arr)\n",
    "print(\"Size :\", arr.size)\n",
    "print(\"Shape :\", arr.shape)\n",
    "print(\"Type :\", arr.dtype)\n",
    "print(\"Dim :\", arr.ndim)"
   ]
  },
  {
   "cell_type": "code",
   "execution_count": 1,
   "metadata": {},
   "outputs": [
    {
     "name": "stdout",
     "output_type": "stream",
     "text": [
      "starts @ main\n",
      "First class fun\n",
      "Second class fun\n"
     ]
    }
   ],
   "source": [
    "class First:\n",
    "    def fun():\n",
    "        print(\"First class fun\")\n",
    "        return\n",
    "class Second:\n",
    "    def fun():\n",
    "        print(\"Second class fun\")\n",
    "        return\n",
    "class Access:\n",
    "    def main():\n",
    "        print(\"starts @ main\")\n",
    "        First.fun()\n",
    "        Second.fun()\n",
    "        return\n",
    "Access.main()"
   ]
  },
  {
   "cell_type": "code",
   "execution_count": 3,
   "metadata": {},
   "outputs": [
    {
     "name": "stdout",
     "output_type": "stream",
     "text": [
      "Inside m1\n",
      "30\n",
      "20\n",
      "Inside m2\n",
      "10\n",
      "20\n"
     ]
    }
   ],
   "source": [
    "a=10 #Global\n",
    "class Access:\n",
    "    a=20 #Static\n",
    "    def m1():\n",
    "        a=30 #Local\n",
    "        print(\"Inside m1\")\n",
    "        print(a)\n",
    "        print(Access.a)\n",
    "        return\n",
    "    def m2():\n",
    "        print(\"Inside m2\")\n",
    "        print(a)\n",
    "        print(Access.a)\n",
    "        return\n",
    "    def main():\n",
    "        Access.m1()\n",
    "        Access.m2()\n",
    "        return\n",
    "Access.main()"
   ]
  },
  {
   "cell_type": "code",
   "execution_count": 10,
   "metadata": {},
   "outputs": [
    {
     "name": "stdout",
     "output_type": "stream",
     "text": [
      "t1 a val : 10\n",
      "t2 a val : 10\n"
     ]
    }
   ],
   "source": [
    "class Test:\n",
    "    def __init__(self):\n",
    "        self.a = 10\n",
    "        return\n",
    "    def main():\n",
    "        t1 = Test()\n",
    "        print(\"t1 a val :\", t1.a)\n",
    "        t2 = Test()\n",
    "        print(\"t2 a val :\", t2.a)\n",
    "        return\n",
    "Test.main()"
   ]
  },
  {
   "cell_type": "code",
   "execution_count": 5,
   "metadata": {},
   "outputs": [
    {
     "name": "stdout",
     "output_type": "stream",
     "text": [
      "t1 x value 10\n",
      "t2 y value 20\n"
     ]
    }
   ],
   "source": [
    "class Test:\n",
    "    def __init__(self):\n",
    "        self.x=10\n",
    "        self.y=20\n",
    "        return  \n",
    "    \n",
    "    def main():\n",
    "        t1=Test()\n",
    "        print(\"t1 x value\",t1.x)\n",
    "        t2=Test()\n",
    "        print(\"t2 y value\",t2.y)\n",
    "        return\n",
    "Test.main()"
   ]
  },
  {
   "cell_type": "code",
   "execution_count": 6,
   "metadata": {},
   "outputs": [
    {
     "name": "stdout",
     "output_type": "stream",
     "text": [
      "t1 x value 10\n",
      "t2 y value 20\n"
     ]
    }
   ],
   "source": [
    "class Test:\n",
    "    def __init__(self):\n",
    "        self.x=10\n",
    "        self.y=20\n",
    "        return  \n",
    "    \n",
    "    def main():\n",
    "        obj=Test()\n",
    "        print(\"t1 x value\",obj.x)\n",
    "        print(\"t2 y value\",obj.y)\n",
    "        return\n",
    "Test.main()"
   ]
  }
 ],
 "metadata": {
  "kernelspec": {
   "display_name": "Python 3",
   "language": "python",
   "name": "python3"
  },
  "language_info": {
   "codemirror_mode": {
    "name": "ipython",
    "version": 3
   },
   "file_extension": ".py",
   "mimetype": "text/x-python",
   "name": "python",
   "nbconvert_exporter": "python",
   "pygments_lexer": "ipython3",
   "version": "3.12.5"
  }
 },
 "nbformat": 4,
 "nbformat_minor": 2
}
