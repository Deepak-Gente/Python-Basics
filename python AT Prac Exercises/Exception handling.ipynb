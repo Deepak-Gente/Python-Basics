{
 "cells": [
  {
   "cell_type": "code",
   "execution_count": null,
   "id": "7e03674a",
   "metadata": {},
   "outputs": [
    {
     "name": "stdout",
     "output_type": "stream",
     "text": [
      "Enter 2 nums:\n",
      "Exception: Invalid Input given\n"
     ]
    }
   ],
   "source": [
    "# #EXAMPLE 1\n",
    "# Exercise 2: Handling Multiple Exceptions\n",
    "# Create a program that accepts a string input from the user and tries to convert it into an integer. If the conversion fails, catch the exception and display a message indicating that the input was not a valid number.\n",
    "\n",
    "# Hints:\n",
    "\n",
    "# Use try to attempt the conversion.\n",
    "\n",
    "# Catch ValueError if the conversion fails and display an appropriate message.\n",
    "\n",
    "try:\n",
    "    print(\"Enter 2 nums:\")\n",
    "    a=int(input())\n",
    "    b=int(input())\n",
    "    c=a+b\n",
    "    print(f\"Result: {c}\")\n",
    "except ValueError:\n",
    "    print(\"Exception: Invalid Input given\")"
   ]
  },
  {
   "cell_type": "code",
   "execution_count": 30,
   "id": "0968a165",
   "metadata": {},
   "outputs": [
    {
     "name": "stdout",
     "output_type": "stream",
     "text": [
      "Enter 2 nums:\n",
      "Result: 0.0\n"
     ]
    }
   ],
   "source": [
    "# Division by Zero Exception Handling:\n",
    "\n",
    "try:\n",
    "    print(\"Enter 2 nums:\")\n",
    "    a=int(input())\n",
    "    b=int(input())\n",
    "    c=a/b\n",
    "    print(f\"Result: {c}\")\n",
    "except ValueError:\n",
    "    print(\"Exception: Invalid Input given\")\n",
    "except ZeroDivisionError:\n",
    "    print(\"Exception: Cannot divide with zero\")\n"
   ]
  },
  {
   "cell_type": "code",
   "execution_count": 31,
   "id": "47afb306",
   "metadata": {},
   "outputs": [
    {
     "name": "stdout",
     "output_type": "stream",
     "text": [
      "Error: list index out of range\n"
     ]
    }
   ],
   "source": [
    "try:\n",
    "    mylist=[1,2,3]\n",
    "    element=mylist[5]\n",
    "except IndexError as e:\n",
    "    print(f\"Error: {e}\")"
   ]
  },
  {
   "cell_type": "code",
   "execution_count": null,
   "id": "ec11d3ca",
   "metadata": {},
   "outputs": [
    {
     "name": "stdout",
     "output_type": "stream",
     "text": [
      "Result is 3.0\n",
      "The division is succesfull\n",
      "The result of 15/5 is : 3.0\n",
      "The division is succesfull\n"
     ]
    }
   ],
   "source": [
    "# Exercise 3: Using else with Exception Handling\n",
    "# Write a function that asks for user input, tries to divide two numbers, and prints the result.\n",
    "# Use else to print a success message when no exception occurs.\n",
    "\n",
    "# Hints:\n",
    "\n",
    "# Use try to perform the division.\n",
    "\n",
    "# Use else to print a success message when no exception happens.\n",
    "\n",
    "def divide():\n",
    "    try:\n",
    "        a=int(input())\n",
    "        b=int(input())\n",
    "        c=a/b\n",
    "        print(f\"Result is {c}\")\n",
    "    except ZeroDivisionError as e:\n",
    "        print(f\"Exception: {e}\")\n",
    "    except ValueError as e:\n",
    "        print(f\"Exception: {e}\")\n",
    "    except IndexError as e:\n",
    "        print(f\"Error: {e}\")\n",
    "\n",
    "    else:\n",
    "        print(\"The division is succesfull\")\n",
    "\n",
    "    \n",
    "divide()\n",
    "\n",
    "\n",
    "# OR\n",
    "\n",
    "# Use Custom Exception\n",
    "                \n",
    "            "
   ]
  },
  {
   "cell_type": "code",
   "execution_count": 59,
   "id": "a82a094b",
   "metadata": {},
   "outputs": [
    {
     "name": "stdout",
     "output_type": "stream",
     "text": [
      "Custom Exception: Numerator cannot be zero\n"
     ]
    }
   ],
   "source": [
    "class CustomZeroDivisionError(Exception):\n",
    "    pass\n",
    "\n",
    "class NumeratorZeroError(Exception):\n",
    "    pass\n",
    "\n",
    "def divide():\n",
    "    try:\n",
    "        a = int(input(\"Enter numerator: \"))\n",
    "        b = int(input(\"Enter denominator: \"))\n",
    "\n",
    "        if a == 0:\n",
    "            raise NumeratorZeroError(\"Numerator cannot be zero\")\n",
    "        elif b == 0:\n",
    "            raise CustomZeroDivisionError(\"Cannot divide by zero\")\n",
    "        else:\n",
    "            c = a / b\n",
    "            print(f\"The result of {a}/{b} is : {c}\")\n",
    "\n",
    "    except NumeratorZeroError as e:\n",
    "        print(f\"Custom Exception: {e}\")\n",
    "    except CustomZeroDivisionError as e:\n",
    "        print(f\"Custom Exception: {e}\")\n",
    "    except ValueError as e:\n",
    "        print(f\"Custom Exception: {e}\")\n",
    "    else:\n",
    "        print(\"The division is successful\")\n",
    "\n",
    "divide()"
   ]
  },
  {
   "cell_type": "code",
   "execution_count": null,
   "id": "48aab645",
   "metadata": {},
   "outputs": [],
   "source": []
  }
 ],
 "metadata": {
  "kernelspec": {
   "display_name": "Python 3",
   "language": "python",
   "name": "python3"
  },
  "language_info": {
   "codemirror_mode": {
    "name": "ipython",
    "version": 3
   },
   "file_extension": ".py",
   "mimetype": "text/x-python",
   "name": "python",
   "nbconvert_exporter": "python",
   "pygments_lexer": "ipython3",
   "version": "3.12.5"
  }
 },
 "nbformat": 4,
 "nbformat_minor": 5
}
