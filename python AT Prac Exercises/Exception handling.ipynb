{
 "cells": [
  {
   "cell_type": "code",
   "execution_count": 1,
   "id": "7e03674a",
   "metadata": {},
   "outputs": [
    {
     "name": "stdout",
     "output_type": "stream",
     "text": [
      "Enter 2 nums:\n",
      "Exception: Invalid Input given\n"
     ]
    }
   ],
   "source": [
    "try:\n",
    "    print(\"Enter 2 nums:\")\n",
    "    a=int(input())\n",
    "    b=int(input())\n",
    "    c=a+b\n",
    "    print(f\"Result: {c}\")\n",
    "except ValueError:\n",
    "    print(\"Exception: Invalid Input given\")"
   ]
  }
 ],
 "metadata": {
  "kernelspec": {
   "display_name": "Python 3",
   "language": "python",
   "name": "python3"
  },
  "language_info": {
   "codemirror_mode": {
    "name": "ipython",
    "version": 3
   },
   "file_extension": ".py",
   "mimetype": "text/x-python",
   "name": "python",
   "nbconvert_exporter": "python",
   "pygments_lexer": "ipython3",
   "version": "3.12.5"
  }
 },
 "nbformat": 4,
 "nbformat_minor": 5
}
