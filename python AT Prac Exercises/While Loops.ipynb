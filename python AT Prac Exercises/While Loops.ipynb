{
 "cells": [
  {
   "cell_type": "code",
   "execution_count": 3,
   "metadata": {},
   "outputs": [
    {
     "name": "stdout",
     "output_type": "stream",
     "text": [
      "4 is even \n",
      "9 is odd\n",
      "Exiting program\n"
     ]
    }
   ],
   "source": [
    "# Check even or Not until user exits:\n",
    "\n",
    "while True:\n",
    "    n=int(input(\"Enter the num:\"))\n",
    "    if n%2==0:\n",
    "        print(f\"{n} is even \")\n",
    "    else:\n",
    "        print(n, \"is odd\")\n",
    "        \n",
    "    choice=input(f\"Do you want to continue(y/n):\")\n",
    "    if choice!=\"y\":\n",
    "        break\n",
    "    \n",
    "print(\"Exiting program\")\n",
    "        "
   ]
  },
  {
   "cell_type": "code",
   "execution_count": 4,
   "metadata": {},
   "outputs": [
    {
     "name": "stdout",
     "output_type": "stream",
     "text": [
      "2*1=2\n",
      "2*2=4\n",
      "2*3=6\n",
      "2*4=8\n",
      "2*5=10\n",
      "2*6=12\n",
      "2*7=14\n",
      "2*8=16\n",
      "2*9=18\n",
      "2*10=20\n",
      "3*1=3\n",
      "3*2=6\n",
      "3*3=9\n",
      "3*4=12\n",
      "3*5=15\n",
      "3*6=18\n",
      "3*7=21\n",
      "3*8=24\n",
      "3*9=27\n",
      "3*10=30\n",
      "3*1=3\n",
      "3*2=6\n",
      "3*3=9\n",
      "3*4=12\n",
      "3*5=15\n",
      "3*6=18\n",
      "3*7=21\n",
      "3*8=24\n",
      "3*9=27\n",
      "3*10=30\n",
      "Exiting program\n"
     ]
    }
   ],
   "source": [
    "# Print Multiplication table until user exits:\n",
    "\n",
    "while True:\n",
    "    n=int(input(\"Enter the num:\"))\n",
    "    if n>=0:\n",
    "        for i in range(1,11):\n",
    "            print(f\"{n}*{i}={n*i}\")\n",
    "    else:\n",
    "        print(n, \"is not a positive number\")\n",
    "        \n",
    "    choice=input(\"Do you want to get the other table(y/n)\")\n",
    "    if choice!=\"y\":\n",
    "        break\n",
    "\n",
    "print(\"Exiting program\")"
   ]
  },
  {
   "cell_type": "code",
   "execution_count": 6,
   "metadata": {},
   "outputs": [
    {
     "name": "stdout",
     "output_type": "stream",
     "text": [
      "5 is prime\n",
      "4 is not prime\n",
      "Exiting program\n"
     ]
    }
   ],
   "source": [
    "# Check the Number is Prime or Not until user exits:\n",
    "\n",
    "while True:\n",
    "    n=int(input(\"Enter the number:\"))\n",
    "    count=0\n",
    "    for i in range(1,n+1):\n",
    "        if n%i==0:\n",
    "            count+=1\n",
    "    \n",
    "    if count==2:\n",
    "        print(n, \"is prime\")\n",
    "    else:\n",
    "        print(n, \"is not prime\")    \n",
    "        \n",
    "    choice=input(f\"Do you want to continue(y/n):\")\n",
    "    if choice!=\"y\":\n",
    "        break\n",
    "    \n",
    "print(\"Exiting program\")\n",
    "    "
   ]
  },
  {
   "cell_type": "code",
   "execution_count": 7,
   "metadata": {},
   "outputs": [
    {
     "name": "stdout",
     "output_type": "stream",
     "text": [
      "1. Add\n",
      "2. Subtract\n",
      "3. Multiply\n",
      "4. Exit\n",
      "Result = 9\n",
      "1. Add\n",
      "2. Subtract\n",
      "3. Multiply\n",
      "4. Exit\n",
      "Error: Invalid choice\n",
      "1. Add\n",
      "2. Subtract\n",
      "3. Multiply\n",
      "4. Exit\n",
      "End of program\n"
     ]
    }
   ],
   "source": [
    "# Menu driven program to perform arithmetic operations:\n",
    "\n",
    "while True:\n",
    "   print(\"1. Add\")\n",
    "   print(\"2. Subtract\")\n",
    "   print(\"3. Multiply\")\n",
    "   print(\"4. Exit\")\n",
    "   choice = input(\"Enter your choice: \")\n",
    "   if choice == '1':\n",
    "     a = int(input(\"Enter first number: \"))\n",
    "     b = int(input(\"Enter second number: \"))\n",
    "     print(\"Result =\", a + b)\n",
    "   elif choice == '2':\n",
    "     a = int(input(\"Enter first number: \"))\n",
    "     b = int(input(\"Enter second number: \"))\n",
    "     print(\"Result =\", a - b)\n",
    "   elif choice == '3':\n",
    "     a = int(input(\"Enter first number: \"))\n",
    "     b = int(input(\"Enter second number: \"))\n",
    "     print(\"Result =\", a * b)\n",
    "   elif choice == '4':\n",
    "     print(\"End of program\")\n",
    "     break\n",
    "   else:\n",
    "     print(\"Error: Invalid choice\")"
   ]
  },
  {
   "cell_type": "code",
   "execution_count": 9,
   "metadata": {},
   "outputs": [
    {
     "name": "stdout",
     "output_type": "stream",
     "text": [
      "2\n"
     ]
    }
   ],
   "source": [
    "# Digit Based Programs\n",
    "\n",
    "# Program to Display Last Digit of given number\n",
    "\n",
    "n=int(input(\"Enter the number:\"))\n",
    "\n",
    "print(n%10)"
   ]
  },
  {
   "cell_type": "code",
   "execution_count": 14,
   "metadata": {},
   "outputs": [
    {
     "name": "stdout",
     "output_type": "stream",
     "text": [
      "After removing last digit:2\n"
     ]
    }
   ],
   "source": [
    "# Program to remove the last digit of number:\n",
    "\n",
    "n=int(input(\"Enter the number:\"))\n",
    "d=n//10\n",
    "print(f\"After removing last digit:{d}\") #25"
   ]
  },
  {
   "cell_type": "code",
   "execution_count": 3,
   "metadata": {},
   "outputs": [
    {
     "name": "stdout",
     "output_type": "stream",
     "text": [
      "1\n",
      "2\n",
      "3\n"
     ]
    }
   ],
   "source": [
    "# Display digits of a number in reverse order:\n",
    "\n",
    "i=int(input(\"Enter the number\"))\n",
    "while i>0:\n",
    "    print(i%10)\n",
    "    i=i//10\n",
    "    "
   ]
  },
  {
   "cell_type": "code",
   "execution_count": 1,
   "metadata": {},
   "outputs": [
    {
     "name": "stdout",
     "output_type": "stream",
     "text": [
      "Digits Count : 3\n"
     ]
    }
   ],
   "source": [
    "# Program to Count the digits in given number\n",
    "\n",
    "n=int(input(\"Enter num:\"))\n",
    "count=0\n",
    "while n>0:\n",
    "    n=n//10\n",
    "    count+=1\n",
    "\n",
    "print(f\"Digits Count : {count}\")"
   ]
  },
  {
   "cell_type": "code",
   "execution_count": 7,
   "metadata": {},
   "outputs": [
    {
     "name": "stdout",
     "output_type": "stream",
     "text": [
      "Sum of Digits is: 18\n"
     ]
    }
   ],
   "source": [
    "# Display sum of the digits in the given number\n",
    "\n",
    "n=int(input(\"Enter num:\"))\n",
    "sum=0\n",
    "while n>0:\n",
    "    sum=sum+n%10\n",
    "    n=n//10\n",
    "\n",
    "print(f\"Sum of Digits is: {sum}\")"
   ]
  },
  {
   "cell_type": "code",
   "execution_count": 3,
   "metadata": {},
   "outputs": [
    {
     "name": "stdout",
     "output_type": "stream",
     "text": [
      "Sum of even digits is: 6\n"
     ]
    }
   ],
   "source": [
    "# Program to display the sum of even digits:\n",
    "\n",
    "n=int(input(\"Enter the num:\"))\n",
    "sum=0\n",
    "while n>0:\n",
    "    r=n%10\n",
    "    if r%2==0:\n",
    "        sum=sum+r\n",
    "    n=n//10\n",
    "                \n",
    "print(f\"Sum of even digits is: {sum}\")"
   ]
  },
  {
   "cell_type": "code",
   "execution_count": 5,
   "metadata": {},
   "outputs": [
    {
     "name": "stdout",
     "output_type": "stream",
     "text": [
      "Sum of even digits is: 3\n"
     ]
    }
   ],
   "source": [
    "# Program to count the number of 0 digits in the given number:\n",
    "\n",
    "n=int(input(\"Enter the num:\"))\n",
    "count=0\n",
    "while n>0:\n",
    "    r=n%10\n",
    "    if r==0:\n",
    "        count+=1\n",
    "    n=n//10\n",
    "                \n",
    "print(f\"Sum of even digits is: {count}\")"
   ]
  },
  {
   "cell_type": "code",
   "execution_count": 11,
   "metadata": {},
   "outputs": [
    {
     "name": "stdout",
     "output_type": "stream",
     "text": [
      "5 * 1 = 5\n",
      "5 * 2 = 10\n",
      "5 * 3 = 15\n",
      "5 * 4 = 20\n",
      "5 * 5 = 25\n",
      "5 * 6 = 30\n",
      "5 * 7 = 35\n",
      "5 * 8 = 40\n",
      "5 * 9 = 45\n",
      "5 * 10 = 50\n",
      "2 * 1 = 2\n",
      "2 * 2 = 4\n",
      "2 * 3 = 6\n",
      "2 * 4 = 8\n",
      "2 * 5 = 10\n",
      "2 * 6 = 12\n",
      "2 * 7 = 14\n",
      "2 * 8 = 16\n",
      "2 * 9 = 18\n",
      "2 * 10 = 20\n"
     ]
    }
   ],
   "source": [
    "# Program to display Multiplication table to each digit in the given number:\n",
    "\n",
    "n=int(input(\"Enter the number:\"))\n",
    "\n",
    "while n>0:\n",
    "    r=n%10\n",
    "    for i in range(1,11):\n",
    "        print(f\"{r} * {i} = {r*i}\")\n",
    "    n=n//10    \n"
   ]
  },
  {
   "cell_type": "code",
   "execution_count": 16,
   "metadata": {},
   "outputs": [
    {
     "name": "stdout",
     "output_type": "stream",
     "text": [
      " Factors of 1 is: 1\n",
      " Factors of 2 is: 2\n",
      " Factors of 3 is: 6\n",
      " Factors of 4 is: 24\n"
     ]
    }
   ],
   "source": [
    "# program to display factoral of each digit in the given number:\n",
    "\n",
    "n=int(input(\"Enter the number:\"))\n",
    "while n>0:\n",
    "    r=n%10\n",
    "    fact=1\n",
    "    \n",
    "    for i in range(1,r+1):\n",
    "        fact=fact*i\n",
    "    \n",
    "    print(f\" Factors of {r} is: {fact}\")\n",
    "    n=n//10"
   ]
  },
  {
   "cell_type": "code",
   "execution_count": null,
   "metadata": {},
   "outputs": [],
   "source": []
  }
 ],
 "metadata": {
  "kernelspec": {
   "display_name": "Python 3",
   "language": "python",
   "name": "python3"
  },
  "language_info": {
   "codemirror_mode": {
    "name": "ipython",
    "version": 3
   },
   "file_extension": ".py",
   "mimetype": "text/x-python",
   "name": "python",
   "nbconvert_exporter": "python",
   "pygments_lexer": "ipython3",
   "version": "3.12.5"
  }
 },
 "nbformat": 4,
 "nbformat_minor": 2
}
