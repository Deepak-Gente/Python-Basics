{
 "cells": [
  {
   "cell_type": "code",
   "execution_count": 2,
   "metadata": {},
   "outputs": [
    {
     "name": "stdout",
     "output_type": "stream",
     "text": [
      "pay:3000.0\n"
     ]
    }
   ],
   "source": [
    "# Print Bill Amount of Customer:\n",
    "\n",
    "Bill=float(input(\"Enter the bill amount:\"))\n",
    "print(f\"pay:{Bill}\")"
   ]
  },
  {
   "cell_type": "code",
   "execution_count": 4,
   "metadata": {},
   "outputs": [
    {
     "name": "stdout",
     "output_type": "stream",
     "text": [
      "pay:85.0\n"
     ]
    }
   ],
   "source": [
    "# Give 15% discount on bill amount to every customer:\n",
    "\n",
    "Bill=float(input(\"Enter the bill amount:\"))\n",
    "\n",
    "discount=Bill*0.15\n",
    "Bill= Bill-discount\n",
    "print(f\"pay:{Bill}\")"
   ]
  },
  {
   "cell_type": "code",
   "execution_count": 7,
   "metadata": {},
   "outputs": [
    {
     "name": "stdout",
     "output_type": "stream",
     "text": [
      "pay: 4000.0\n"
     ]
    }
   ],
   "source": [
    "# Program to give 20% discount to customer if the bill amount is > 5000\n",
    "\n",
    "Bill=float(input(\"Enter bill amount:\"))\n",
    "\n",
    "discount=Bill*0.20\n",
    "Discountedbill=Bill-discount\n",
    "\n",
    "if Bill>=5000:\n",
    "    print(f\"pay: {Discountedbill}\")\n",
    "    \n",
    "else:\n",
    "    print(f\"pay: {Bill}\")"
   ]
  },
  {
   "cell_type": "code",
   "execution_count": null,
   "metadata": {},
   "outputs": [],
   "source": []
  }
 ],
 "metadata": {
  "kernelspec": {
   "display_name": "Python 3",
   "language": "python",
   "name": "python3"
  },
  "language_info": {
   "codemirror_mode": {
    "name": "ipython",
    "version": 3
   },
   "file_extension": ".py",
   "mimetype": "text/x-python",
   "name": "python",
   "nbconvert_exporter": "python",
   "pygments_lexer": "ipython3",
   "version": "3.12.5"
  }
 },
 "nbformat": 4,
 "nbformat_minor": 2
}
