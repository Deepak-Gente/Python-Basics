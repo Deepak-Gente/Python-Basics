{
 "cells": [
  {
   "cell_type": "code",
   "execution_count": null,
   "id": "709c8b6a",
   "metadata": {},
   "outputs": [
    {
     "name": "stdout",
     "output_type": "stream",
     "text": [
      "func-----\n"
     ]
    }
   ],
   "source": [
    "# static method, we use class name to retrive the data \n",
    "# EXAMPLE 1\n",
    "class test:\n",
    "    def fun():\n",
    "        print(\"func-----\")\n",
    "        return\n",
    "test.fun()  "
   ]
  },
  {
   "cell_type": "code",
   "execution_count": null,
   "id": "27c6aef9",
   "metadata": {},
   "outputs": [
    {
     "ename": "TypeError",
     "evalue": "test.fun() missing 1 required positional argument: 'self'",
     "output_type": "error",
     "traceback": [
      "\u001b[1;31m---------------------------------------------------------------------------\u001b[0m",
      "\u001b[1;31mTypeError\u001b[0m                                 Traceback (most recent call last)",
      "Cell \u001b[1;32mIn[1], line 7\u001b[0m\n\u001b[0;32m      5\u001b[0m         \u001b[38;5;28mprint\u001b[39m(\u001b[38;5;124m\"\u001b[39m\u001b[38;5;124mfun----\u001b[39m\u001b[38;5;124m\"\u001b[39m)\n\u001b[0;32m      6\u001b[0m         \u001b[38;5;28;01mreturn\u001b[39;00m\n\u001b[1;32m----> 7\u001b[0m \u001b[43mtest\u001b[49m\u001b[38;5;241;43m.\u001b[39;49m\u001b[43mfun\u001b[49m\u001b[43m(\u001b[49m\u001b[43m)\u001b[49m\n",
      "\u001b[1;31mTypeError\u001b[0m: test.fun() missing 1 required positional argument: 'self'"
     ]
    }
   ],
   "source": [
    "# Dynamic Method\n",
    "\n",
    "# EXAMPLE 1\n",
    "class test:\n",
    "    def fun(self):\n",
    "        print(\"fun----\")\n",
    "        return\n",
    "test.fun()\n",
    "\n",
    "\n",
    "# we cannot access the dynamic variables directly by calling the class name\n",
    "# You're trying to call an instance method or dynamic method (fun) without creating an object of the class test.\n",
    "# so before calling any dymanic variable we need to make sure that we have the obj created and we need to call using that obj.\n",
    "# Lets see the corrected code for this below"
   ]
  },
  {
   "cell_type": "code",
   "execution_count": 4,
   "id": "378464a2",
   "metadata": {},
   "outputs": [
    {
     "name": "stdout",
     "output_type": "stream",
     "text": [
      "fun----\n"
     ]
    }
   ],
   "source": [
    "class test:\n",
    "    def fun(self):\n",
    "        print(\"fun----\")\n",
    "        return\n",
    "obj=test()\n",
    "obj.fun()"
   ]
  },
  {
   "cell_type": "code",
   "execution_count": null,
   "id": "7deacfdf",
   "metadata": {},
   "outputs": [
    {
     "name": "stdout",
     "output_type": "stream",
     "text": [
      "Sum=30\n"
     ]
    }
   ],
   "source": [
    "# Lets see how do we call the values in functional programming\n",
    "# Functional Programming\n",
    "# EXAMPLE 2\n",
    "def add(a,b):\n",
    "    c=a+b\n",
    "    print(f\"Sum={c}\")\n",
    "    return\n",
    "add(10,20)"
   ]
  },
  {
   "cell_type": "code",
   "execution_count": null,
   "id": "90bff271",
   "metadata": {},
   "outputs": [
    {
     "name": "stdout",
     "output_type": "stream",
     "text": [
      "sum=40\n"
     ]
    }
   ],
   "source": [
    "# Object Oriented Programming\n",
    "# In OOPS we create class and we call class name.method name to retrieve the data\n",
    "# Static method\n",
    "# EXMAPLE 2\n",
    "class add():\n",
    "    def nums(a,b):\n",
    "        c=a+b\n",
    "        print(f\"sum={c}\")\n",
    "        return\n",
    "add.nums(20,20)"
   ]
  },
  {
   "cell_type": "code",
   "execution_count": null,
   "id": "b2ca0e7c",
   "metadata": {},
   "outputs": [
    {
     "name": "stdout",
     "output_type": "stream",
     "text": [
      "Sum=70\n"
     ]
    }
   ],
   "source": [
    "# Dynamic method in OOPS\n",
    "# EXAMPLE 2\n",
    "class add():\n",
    "    def nums(self):\n",
    "        a=50\n",
    "        b=20\n",
    "        c=a+b\n",
    "        print(f\"Sum={c}\")\n",
    "        return\n",
    "t=add()\n",
    "t.nums()\n",
    "\n",
    "# Or you can also use the below method"
   ]
  },
  {
   "cell_type": "code",
   "execution_count": null,
   "id": "99d418b5",
   "metadata": {},
   "outputs": [
    {
     "name": "stdout",
     "output_type": "stream",
     "text": [
      "Sum=50\n"
     ]
    }
   ],
   "source": [
    "# Dynamic method you can do it like above method or the below one\n",
    "# EXAMPLE 2\n",
    "class add():\n",
    "    def nums(self,a,b):\n",
    "        c=a+b\n",
    "        print(f\"Sum={c}\")\n",
    "        return\n",
    "obj=add()\n",
    "obj.nums(20,30)"
   ]
  },
  {
   "cell_type": "code",
   "execution_count": 40,
   "id": "1aa20ed4",
   "metadata": {},
   "outputs": [
    {
     "name": "stdout",
     "output_type": "stream",
     "text": [
      "not even\n",
      "even\n"
     ]
    }
   ],
   "source": [
    "# EXAMPLE 3\n",
    "# FUNCTIONAL PROGRAMMING\n",
    "\n",
    "def even(n):\n",
    "    if n%2==0:\n",
    "        print(\"even\")\n",
    "    else:\n",
    "        print(\"not even\")\n",
    "    return\n",
    "even(23)\n",
    "\n",
    "\n",
    "# OR\n",
    "\n",
    "\n",
    "def even(n):\n",
    "    if n%2==0:\n",
    "        return(\"even\")\n",
    "    else:\n",
    "        return(\"not even\")\n",
    "    \n",
    "res=even(22)\n",
    "print(res)"
   ]
  },
  {
   "cell_type": "code",
   "execution_count": null,
   "id": "46c948a7",
   "metadata": {},
   "outputs": [
    {
     "name": "stdout",
     "output_type": "stream",
     "text": [
      "not even\n",
      "even\n"
     ]
    }
   ],
   "source": [
    "# EXAMPLE 3\n",
    "# STATIC METHOD\n",
    "# OOPS\n",
    "\n",
    "class Even:\n",
    "    def even(n):\n",
    "        if n%2==0:\n",
    "            print(\"even\")\n",
    "        else:\n",
    "            print(\"not even\")\n",
    "        return\n",
    "Even.even(9)\n",
    "\n",
    "# OR\n",
    "\n",
    "class Even:\n",
    "    def even(n):\n",
    "        if n%2==0:\n",
    "            return(\"even\")\n",
    "        else:\n",
    "            return(\"not even\")\n",
    "        \n",
    "res=Even.even(12)\n",
    "print(res)\n"
   ]
  },
  {
   "cell_type": "code",
   "execution_count": 47,
   "id": "549efe2b",
   "metadata": {},
   "outputs": [
    {
     "name": "stdout",
     "output_type": "stream",
     "text": [
      "even\n",
      "not even\n"
     ]
    }
   ],
   "source": [
    "# EXAMPLE 3\n",
    "# DYNAMIC METHOD\n",
    "\n",
    "class Even():\n",
    "    def even(self,n):\n",
    "        if n%2==0:\n",
    "            print(\"even\")\n",
    "        else:\n",
    "            print(\"not even\")\n",
    "        return\n",
    "obj=Even()\n",
    "obj.even(14)\n",
    "\n",
    "# OR\n",
    "\n",
    "class Even():\n",
    "    def even(self,n):\n",
    "        if n%2==0:\n",
    "            return(\"even\")\n",
    "        else:\n",
    "            return(\"not even\")\n",
    "\n",
    "o=Even()   #created object o\n",
    "res=o.even(23)\n",
    "print(res)"
   ]
  },
  {
   "cell_type": "code",
   "execution_count": null,
   "id": "a7598387",
   "metadata": {},
   "outputs": [
    {
     "name": "stdout",
     "output_type": "stream",
     "text": [
      "starts @ main\n",
      "First class fun\n",
      "Second class fun\n"
     ]
    }
   ],
   "source": [
    "# EXAMPLE 4\n",
    "# STATIC METHOD\n",
    "class First:\n",
    "    def fun():\n",
    "        print(\"First class fun\")\n",
    "        return\n",
    "class Second:\n",
    "    def fun():\n",
    "        print(\"Second class fun\")\n",
    "        return\n",
    "class Access:\n",
    "    def main():\n",
    "        print(\"starts @ main\")\n",
    "        First.fun()\n",
    "        Second.fun()\n",
    "        return\n",
    "Access.main()"
   ]
  },
  {
   "cell_type": "code",
   "execution_count": null,
   "id": "e6bb3041",
   "metadata": {},
   "outputs": [],
   "source": [
    "# EXAMPLE 5\n",
    "# STATIC METHOD\n",
    "# This example has 3 variables\n",
    "    # 1) Global \n",
    "    # 2) local\n",
    "    # 3) static\n",
    "    \n",
    "# Global variables:\n",
    "#   • Defining variables outside to all classes.\n",
    "#   • We access global variables directly.\n",
    "#   • When we access variable inside the method, it is looking for local variable first. If the\n",
    "#     local variable is not present, it accesses the global variable.\n",
    "\n",
    "\n",
    "a=10 #Global\n",
    "class Access:\n",
    "    a=20 #Static\n",
    "    def m1():\n",
    "        a=30 #Local\n",
    "        print(\"Inside m1\")\n",
    "        print(a)\n",
    "        print(Access.a)\n",
    "        return\n",
    "    def m2():\n",
    "        print(\"Inside m2\")\n",
    "        print(a)\n",
    "        print(Access.a)\n",
    "        return\n",
    "    def main():\n",
    "        Access.m1()\n",
    "        Access.m2()\n",
    "        return\n",
    "Access.main()"
   ]
  },
  {
   "cell_type": "code",
   "execution_count": 52,
   "id": "2af4801f",
   "metadata": {},
   "outputs": [
    {
     "name": "stdout",
     "output_type": "stream",
     "text": [
      "static method\n",
      "constructor\n",
      "dynamic method\n"
     ]
    }
   ],
   "source": [
    "# EXAMPLE 6\n",
    "# Creating the constructor\n",
    "\n",
    "class Test:\n",
    "    def abc():\n",
    "        print(\"static method\")\n",
    "        return\n",
    "    \n",
    "    def __init__(self):\n",
    "        print(\"constructor\")\n",
    "        return\n",
    "    \n",
    "    def xyz(self):\n",
    "        print(\"dynamic method\")\n",
    "        return\n",
    "\n",
    "Test.abc()\n",
    "obj=Test()\n",
    "obj.xyz()\n"
   ]
  },
  {
   "cell_type": "code",
   "execution_count": null,
   "id": "94a8818f",
   "metadata": {},
   "outputs": [
    {
     "name": "stdout",
     "output_type": "stream",
     "text": [
      "t1 x value 10\n",
      "t2 y value 20\n"
     ]
    }
   ],
   "source": [
    "# EXAMPLE 7\n",
    "\n",
    "class Test:\n",
    "    def __init__(self):\n",
    "        self.x=10\n",
    "        self.y=20\n",
    "        return  \n",
    "    \n",
    "    def main():\n",
    "        t1=Test()\n",
    "        print(\"t1 x value\",t1.x)\n",
    "        t2=Test()\n",
    "        print(\"t2 y value\",t2.y)\n",
    "        return\n",
    "Test.main()"
   ]
  },
  {
   "cell_type": "code",
   "execution_count": 60,
   "id": "9a5a4ccc",
   "metadata": {},
   "outputs": [
    {
     "name": "stdout",
     "output_type": "stream",
     "text": [
      "t1 x value 10\n",
      "t2 y value 20\n",
      "t1 a value 10\n",
      "t2 b value 10\n"
     ]
    }
   ],
   "source": [
    "# EXAMPLE 8\n",
    "\n",
    "class Test:\n",
    "    def __init__(self):\n",
    "        self.x=10\n",
    "        self.y=20\n",
    "        return  \n",
    "    \n",
    "    def main():\n",
    "        obj=Test()\n",
    "        print(\"t1 x value\",obj.x)\n",
    "        print(\"t2 y value\",obj.y)\n",
    "        return\n",
    "Test.main()\n",
    "\n",
    "\n",
    "# OR \n",
    "\n",
    "class Test:\n",
    "    def __init__(self,a,b):\n",
    "        self.a=a\n",
    "        self.b=b\n",
    "        return  \n",
    "    \n",
    "    def main():\n",
    "        obj=Test(10,10)\n",
    "        print(\"t1 a value\",obj.a)\n",
    "        print(\"t2 b value\",obj.b)\n",
    "        return\n",
    "Test.main()"
   ]
  },
  {
   "cell_type": "code",
   "execution_count": null,
   "id": "b3162f5b",
   "metadata": {},
   "outputs": [
    {
     "name": "stdout",
     "output_type": "stream",
     "text": [
      "passed\n",
      "failed\n"
     ]
    }
   ],
   "source": [
    "# Create a class Student with:\n",
    "# Dynamic Method\n",
    "# An instance method is_passed() that returns True if the student's grade is >= 50.\n",
    "\n",
    "class Student:\n",
    "        \n",
    "    def is_passed(self,n):\n",
    "        if n>=50:\n",
    "            return(\"passed\")\n",
    "        else:\n",
    "            return(\"failed\")\n",
    "    \n",
    "    \n",
    "obj=Student()\n",
    "res=obj.is_passed(51)\n",
    "print(res)\n",
    "\n",
    "\n",
    "\n",
    "# OR\n",
    "\n",
    "class Student:\n",
    "    def __init__(self, n):\n",
    "        self.n = n  # store the student's grade\n",
    "\n",
    "    def is_passed(self):\n",
    "        if self.n >= 50:\n",
    "            return \"passed\"\n",
    "        else:\n",
    "            return \"failed\"\n",
    "\n",
    "# Create object with grade \n",
    "obj = Student(45)\n",
    "\n",
    "# Call the method without passing the grade again\n",
    "res = obj.is_passed()\n",
    "print(res)\n"
   ]
  },
  {
   "cell_type": "code",
   "execution_count": 80,
   "id": "a8ba3168",
   "metadata": {},
   "outputs": [
    {
     "name": "stdout",
     "output_type": "stream",
     "text": [
      "ABC University\n"
     ]
    }
   ],
   "source": [
    "# Exercise 1: School Name (Student Class)\n",
    "# Create a static method school_name() in a Student class that returns the name of the school.\n",
    "\n",
    "class Student:\n",
    "    def school_name():\n",
    "        print(\"ABC University\")\n",
    "        return\n",
    "Student.school_name()\n",
    "    "
   ]
  },
  {
   "cell_type": "code",
   "execution_count": null,
   "id": "7b442752",
   "metadata": {},
   "outputs": [
    {
     "name": "stdout",
     "output_type": "stream",
     "text": [
      "Valid Positive number\n",
      "Not a positive number\n"
     ]
    }
   ],
   "source": [
    "# Exercise 2: Radius Validation (Circle Class)\n",
    "# Create a static method is_valid_radius(value) that checks whether a given radius is a valid positive number.\n",
    "\n",
    "class Student:\n",
    "    def is_valid_radius(value):\n",
    "        if value>=0:\n",
    "            return(\"Valid Positive number\")\n",
    "        else:\n",
    "            return(\"not a positive number\")\n",
    "res=Student.is_valid_radius(2)           \n",
    "print(res)\n",
    "\n",
    "\n",
    "# OR\n",
    "\n",
    "class Student:\n",
    "    def is_valid_radius():\n",
    "        value=float(input())    # I have given -1 as input\n",
    "        if value>=0:\n",
    "            return(\"Valid Positive number\")\n",
    "        else:\n",
    "            return(\"Not a positive number\")\n",
    "res=Student.is_valid_radius()            \n",
    "print(res)"
   ]
  },
  {
   "cell_type": "code",
   "execution_count": 5,
   "id": "59ac4a58",
   "metadata": {},
   "outputs": [
    {
     "name": "stdout",
     "output_type": "stream",
     "text": [
      "Welcome\n",
      "Welcome Deepak Sai\n",
      "Welcome: Deepak Sai Kumar\n",
      "Welcome: Deepak\n"
     ]
    }
   ],
   "source": [
    "# Exercise 3: Welcome Message (Calculator Class)\n",
    "# Add a static method welcome() to a Calculator class that prints a welcome message.\n",
    "\n",
    "class Calculator:\n",
    "    def welcome():\n",
    "        print(\"Welcome\")\n",
    "        return\n",
    "Calculator.welcome()\n",
    "\n",
    "\n",
    "# OR\n",
    "\n",
    "class Calculator:\n",
    "    def welcome():\n",
    "        name=input()\n",
    "        print(f\"Welcome {name}\")\n",
    "        return\n",
    "Calculator.welcome()\n",
    "\n",
    "\n",
    "# Dynamic method without constructor\n",
    "class calculator:\n",
    "        \n",
    "    def welcome(self):\n",
    "        print(f\"Welcome: Deepak Sai Kumar\")\n",
    "        return\n",
    "    \n",
    "obj=calculator()\n",
    "obj.welcome()\n",
    "\n",
    "\n",
    "# Dynamic method with constructor \n",
    "class calculator:\n",
    "    \n",
    "    def __init__(self,name):\n",
    "        self.name=name\n",
    "        \n",
    "        \n",
    "    def welcome(self):\n",
    "        print(f\"Welcome: {self.name}\")\n",
    "        return\n",
    "    \n",
    "obj=calculator(\"Deepak\")\n",
    "obj.welcome()\n"
   ]
  },
  {
   "cell_type": "code",
   "execution_count": null,
   "id": "aa1adcb4",
   "metadata": {},
   "outputs": [
    {
     "name": "stdout",
     "output_type": "stream",
     "text": [
      "100°C = 212.0°F\n",
      "212°F = 100.0°C\n"
     ]
    }
   ],
   "source": [
    "\n",
    "# Exercise 4: Temperature Converter\n",
    "\n",
    "# Create a Temperature class with:\n",
    "\n",
    "#       celsius_to_fahrenheit(c)\n",
    "\n",
    "#       fahrenheit_to_celsius(f)\n",
    "\n",
    "# Both as static methods to convert temperatures.\n",
    "\n",
    "class Temperature:\n",
    "    def celsius_to_fahrenheit(c):\n",
    "        c=100\n",
    "        return(c*9/5)+32\n",
    "    \n",
    "    def fahrenheit_to_celsius(f):\n",
    "        f=212\n",
    "        return(f-32)*5/9\n",
    "\n",
    "res=Temperature.celsius_to_fahrenheit(c)\n",
    "res1=Y=Temperature.fahrenheit_to_celsius(f)\n",
    "print(f\"{c}°C = {res}°F\")       # you can press Alt key and type 0176 to get the (°) symbol but make sure that the num ock is on\n",
    "print(f\"{f}°F = {res1}°C\")"
   ]
  },
  {
   "cell_type": "code",
   "execution_count": 25,
   "id": "de9bccd2",
   "metadata": {},
   "outputs": [
    {
     "name": "stdout",
     "output_type": "stream",
     "text": [
      "failed\n",
      "Passed\n"
     ]
    }
   ],
   "source": [
    "# Exercise 5: Result Check (Student Class)\n",
    "# Create an instance method is_passed() in Student class that checks if the grade is greater than or equal to 50.\n",
    "\n",
    "# Dynamic(instance) method without constructor\n",
    "class Student:\n",
    "    def is_passed(self,score):\n",
    "        if score>=50:\n",
    "            print(\"Passed\")\n",
    "        else:\n",
    "            print(\"failed\")\n",
    "\n",
    "obj=Student()\n",
    "obj.is_passed(45)\n",
    "    \n",
    "# OR\n",
    "\n",
    "# Dynamic(instance) method with constructor\n",
    "\n",
    "class Student:\n",
    "    def __init__(self,score):\n",
    "        self.score=score\n",
    "        \n",
    "    def is_passed(self):\n",
    "        if self.score>=50:\n",
    "            print(\"Passed\")\n",
    "        else:\n",
    "            print(\"Failed\")\n",
    "            \n",
    "obj=Student(55)\n",
    "obj.is_passed()\n",
    "        "
   ]
  },
  {
   "cell_type": "code",
   "execution_count": null,
   "id": "90322601",
   "metadata": {},
   "outputs": [
    {
     "name": "stdout",
     "output_type": "stream",
     "text": [
      "The are of circle is:78.53981633974483\n"
     ]
    }
   ],
   "source": [
    "# Exercise 2: Circle Area Calculation\n",
    "# Add an instance method area() in a Circle class to calculate the area using the object's radius.\n",
    "\n",
    "\n",
    "import math    # Import math library to use math.pi\n",
    "\n",
    "class Circle():\n",
    "    def __init__(self,radius):\n",
    "        self.radius=radius\n",
    "        \n",
    "    def area(self):\n",
    "        return(math.pi*self.radius*self.radius)    # Calculate the area using the formula π * r^2\n",
    "    \n",
    "obj=Circle(5)\n",
    "print(f\"The area of circle is:{obj.area()}\")"
   ]
  },
  {
   "cell_type": "code",
   "execution_count": null,
   "id": "2d945cc2",
   "metadata": {},
   "outputs": [],
   "source": []
  }
 ],
 "metadata": {
  "kernelspec": {
   "display_name": "Python 3",
   "language": "python",
   "name": "python3"
  },
  "language_info": {
   "codemirror_mode": {
    "name": "ipython",
    "version": 3
   },
   "file_extension": ".py",
   "mimetype": "text/x-python",
   "name": "python",
   "nbconvert_exporter": "python",
   "pygments_lexer": "ipython3",
   "version": "3.12.5"
  }
 },
 "nbformat": 4,
 "nbformat_minor": 5
}
