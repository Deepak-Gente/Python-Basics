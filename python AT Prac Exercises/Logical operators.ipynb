{
 "cells": [
  {
   "cell_type": "code",
   "execution_count": 5,
   "metadata": {},
   "outputs": [
    {
     "name": "stdout",
     "output_type": "stream",
     "text": [
      "Number 18 is not divisible by both 3 and 5\n"
     ]
    }
   ],
   "source": [
    "# Program to check the Number Divisible by both 3 and 5:\n",
    "\n",
    "n=int(input(\"Enter the number:\"))\n",
    "\n",
    "if n%3==0 and n%5==0:\n",
    "    print(f\"Number {n} is divisible by both 3 and 5\")\n",
    "else:\n",
    "    print(f\"Number {n} is not divisible by both 3 and 5\")"
   ]
  },
  {
   "cell_type": "code",
   "execution_count": 9,
   "metadata": {},
   "outputs": [
    {
     "name": "stdout",
     "output_type": "stream",
     "text": [
      "persons age 50 is between 20 and 50\n"
     ]
    }
   ],
   "source": [
    "# Check the person age between 20 and 50:\n",
    "age=int(input(\"Enter the age:\"))\n",
    "if age>=20 and age<=50:\n",
    "    print(f'persons age {age} is between 20 and 50')\n",
    "else:\n",
    "    print(f'persons age {age} is not in between 20 and 50')"
   ]
  },
  {
   "cell_type": "code",
   "execution_count": 14,
   "metadata": {},
   "outputs": [
    {
     "name": "stdout",
     "output_type": "stream",
     "text": [
      "8 is a single digit num\n"
     ]
    }
   ],
   "source": [
    "# Check the Number is Single Digit or Not:\n",
    "\n",
    "n=int(input('Enter the num:'))\n",
    "\n",
    "if n>=0 and n<=9:\n",
    "    print(f'{n} is a single digit num')\n",
    "else:\n",
    "    print(f'{n} is not a single digit num')"
   ]
  },
  {
   "cell_type": "code",
   "execution_count": 21,
   "metadata": {},
   "outputs": [
    {
     "name": "stdout",
     "output_type": "stream",
     "text": [
      "IN is a upper case character\n"
     ]
    }
   ],
   "source": [
    "# Check the Character is Upper case Alphabet or Not:\n",
    "\n",
    "char=input(\"Enter the char:\")\n",
    "\n",
    "if char>='A' and char<='Z':\n",
    "    print(f'{char} is a upper case character')\n",
    "else:\n",
    "    print(f'{char} is a lower case character')"
   ]
  },
  {
   "cell_type": "code",
   "execution_count": 22,
   "metadata": {},
   "outputs": [
    {
     "name": "stdout",
     "output_type": "stream",
     "text": [
      "a is a lower case character\n"
     ]
    }
   ],
   "source": [
    "# Check the Character is Lower case Alphabet or Not:\n",
    "\n",
    "char=input(\"Enter the char:\")\n",
    "\n",
    "if char>='a' and char<='z':\n",
    "    print(f'{char} is a lower case character')\n",
    "else:\n",
    "    print(f'{char} is a upper case character')"
   ]
  },
  {
   "cell_type": "code",
   "execution_count": 31,
   "metadata": {},
   "outputs": [
    {
     "name": "stdout",
     "output_type": "stream",
     "text": [
      "HAN is a character\n"
     ]
    }
   ],
   "source": [
    "# Check the Character is Digit or Not:\n",
    "\n",
    "char=input(\"Enter the char:\")\n",
    "\n",
    "if char>='0' and char<='9':\n",
    "    print(f'{char} is a Digit')\n",
    "else:\n",
    "    print(f'{char} is a character')"
   ]
  },
  {
   "cell_type": "code",
   "execution_count": 38,
   "metadata": {},
   "outputs": [
    {
     "name": "stdout",
     "output_type": "stream",
     "text": [
      "Not a vowel\n"
     ]
    }
   ],
   "source": [
    "# Character is Vowel or Not:\n",
    "\n",
    "char=input(\"Enter the char:\")\n",
    "if char in ('a','e','i','o','u'):\n",
    "    print(\"Vowels\")\n",
    "else:\n",
    "    print(\"Not a vowel\")"
   ]
  },
  {
   "cell_type": "code",
   "execution_count": 42,
   "metadata": {},
   "outputs": [
    {
     "name": "stdout",
     "output_type": "stream",
     "text": [
      "Fail\n"
     ]
    }
   ],
   "source": [
    "# Check the Student passed in all 3 subjects or not with minimum 35 marks:\n",
    "subj1 = int(input(\"Enter subj1 score: \"))\n",
    "subj2 = int(input(\"Enter subj2 score: \"))\n",
    "subj3 = int(input(\"Enter subj3 score: \"))\n",
    "if subj1 >= 35 and subj2 >= 35 and subj3 >= 35:\n",
    "    print(\"Pass\")\n",
    "else:\n",
    "    print(\"Fail\")\n"
   ]
  },
  {
   "cell_type": "code",
   "execution_count": 1,
   "metadata": {},
   "outputs": [
    {
     "name": "stdout",
     "output_type": "stream",
     "text": [
      "n factorial is : 2\n",
      "n factorial is : 6\n",
      "n factorial is : 24\n",
      "n factorial is : 120\n",
      "n factorial is : 720\n",
      "n factorial is : 5040\n",
      "n factorial is : 40320\n"
     ]
    }
   ],
   "source": [
    "# DAY 7 \n",
    "\n",
    "for n in range (2,9):\n",
    "    \n",
    "    fact=1\n",
    "    for i in range(1,n+1):\n",
    "        fact=fact*i\n",
    "    print(f'n factorial is : {fact}')"
   ]
  },
  {
   "cell_type": "code",
   "execution_count": null,
   "metadata": {},
   "outputs": [
    {
     "name": "stdout",
     "output_type": "stream",
     "text": [
      "Not perfect\n",
      "Not perfect\n",
      "Perfect\n",
      "Perfect\n",
      "Perfect\n"
     ]
    }
   ],
   "source": [
    "# Perfect Number problems\n",
    "\n",
    "n=6\n",
    "\n",
    "sum=0\n",
    "for i in range(1,n):\n",
    "    if n%i==0:\n",
    "        sum+=i\n",
    "    if sum==n:\n",
    "        print('Perfect')\n",
    "    else:\n",
    "        print('Not perfect')"
   ]
  },
  {
   "cell_type": "code",
   "execution_count": 3,
   "metadata": {},
   "outputs": [
    {
     "name": "stdout",
     "output_type": "stream",
     "text": [
      "6 is a perfect\n",
      "28 is a perfect\n",
      "496 is a perfect\n",
      "8128 is a perfect\n"
     ]
    }
   ],
   "source": [
    "# perfect num\n",
    "\n",
    "for n in range(1,10001):\n",
    "    \n",
    "    sum=0\n",
    "    for i in range(1,n):\n",
    "        if n%i==0:\n",
    "            sum+=i\n",
    "    if sum==n:\n",
    "        print(f'{n} is a perfect')"
   ]
  },
  {
   "cell_type": "code",
   "execution_count": 8,
   "metadata": {},
   "outputs": [
    {
     "name": "stdout",
     "output_type": "stream",
     "text": [
      "1\n",
      "10\n",
      "101\n",
      "1010\n",
      "10101\n"
     ]
    }
   ],
   "source": [
    "for i in range(1,6,1):\n",
    "    \n",
    "    for j in range(1,i+1,1):\n",
    "        # print(j,end='')\n",
    "        # print(i,end=\"\")\n",
    "        # print(\"*\",end=\"\")\n",
    "        print(j%2, end=\"\")\n",
    "     \n",
    "    print()    "
   ]
  },
  {
   "cell_type": "code",
   "execution_count": 1,
   "metadata": {},
   "outputs": [
    {
     "name": "stdout",
     "output_type": "stream",
     "text": [
      "        *         \n",
      "      *   *       \n",
      "    *       *     \n",
      "  *           *   \n",
      "*               * \n",
      "  *           *   \n",
      "    *       *     \n",
      "      *   *       \n",
      "        *         \n"
     ]
    }
   ],
   "source": [
    "for i in range(1,10):\n",
    "    for j in range(1,10):\n",
    "        if ((i+j==6 and i<=5) or(i-j==4 and i>=6)or(j-i==4 and j>=6)or (i+j==14 and i>=6) ):\n",
    "            print(\"*\", end=\" \")\n",
    "        else:\n",
    "            print(\" \", end=\" \")\n",
    "    print()"
   ]
  },
  {
   "cell_type": "code",
   "execution_count": 2,
   "metadata": {},
   "outputs": [
    {
     "name": "stdout",
     "output_type": "stream",
     "text": [
      "Number A:50 is greater than 40 and 30\n"
     ]
    }
   ],
   "source": [
    "# Check A greater than both B and C:\n",
    "\n",
    "a=int(input(\"Enter the num:\"))\n",
    "b=int(input(\"Enter the num:\"))\n",
    "c=int(input(\"Enter the num:\"))\n",
    "\n",
    "if a>b>c:\n",
    "    print(f\"Number A:{a} is greater than {b} and {c}\")\n",
    "else:\n",
    "    print(f\"A: {a} is not greater than {b} and {c}\")"
   ]
  },
  {
   "cell_type": "code",
   "execution_count": null,
   "metadata": {},
   "outputs": [],
   "source": []
  }
 ],
 "metadata": {
  "kernelspec": {
   "display_name": "Python 3",
   "language": "python",
   "name": "python3"
  },
  "language_info": {
   "codemirror_mode": {
    "name": "ipython",
    "version": 3
   },
   "file_extension": ".py",
   "mimetype": "text/x-python",
   "name": "python",
   "nbconvert_exporter": "python",
   "pygments_lexer": "ipython3",
   "version": "3.12.5"
  }
 },
 "nbformat": 4,
 "nbformat_minor": 2
}
