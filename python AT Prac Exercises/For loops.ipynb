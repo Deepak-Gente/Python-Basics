{
 "cells": [
  {
   "cell_type": "code",
   "execution_count": 2,
   "metadata": {},
   "outputs": [
    {
     "name": "stdout",
     "output_type": "stream",
     "text": [
      "1 2 3 4 5 6 7 8 9 "
     ]
    }
   ],
   "source": [
    "# Print the numbers from 0 to 9:\n",
    "\n",
    "for i in range(1,10):\n",
    "    print(i, end=\" \")"
   ]
  },
  {
   "cell_type": "code",
   "execution_count": 3,
   "metadata": {},
   "outputs": [
    {
     "name": "stdout",
     "output_type": "stream",
     "text": [
      "3\n",
      "4\n",
      "5\n",
      "6\n",
      "7\n",
      "8\n"
     ]
    }
   ],
   "source": [
    "# Print the numbers from 3 to 8:\n",
    "\n",
    "for i in range(3,9):\n",
    "    print(i)"
   ]
  },
  {
   "cell_type": "code",
   "execution_count": 7,
   "metadata": {},
   "outputs": [
    {
     "name": "stdout",
     "output_type": "stream",
     "text": [
      "10\n",
      "9\n",
      "8\n",
      "7\n",
      "6\n",
      "5\n",
      "4\n",
      "3\n",
      "2\n",
      "1\n"
     ]
    }
   ],
   "source": [
    "# Print the numbers from 10 to 1:\n",
    "\n",
    "for i in range(10,1-1,-1): # (Start(up), Stop(lb-1),decrementer\n",
    "    print(i)"
   ]
  },
  {
   "cell_type": "code",
   "execution_count": 9,
   "metadata": {},
   "outputs": [
    {
     "name": "stdout",
     "output_type": "stream",
     "text": [
      "0\n",
      "3\n",
      "6\n",
      "9\n",
      "12\n",
      "15\n",
      "18\n"
     ]
    }
   ],
   "source": [
    "# Print every third number from 0 to 20:\n",
    "\n",
    "for i in range(0, 21,3):\n",
    "    print(i)"
   ]
  },
  {
   "cell_type": "code",
   "execution_count": 10,
   "metadata": {},
   "outputs": [
    {
     "name": "stdout",
     "output_type": "stream",
     "text": [
      "1\n",
      "2\n",
      "3\n",
      "4\n",
      "5\n",
      "6\n",
      "7\n",
      "8\n",
      "9\n",
      "10\n"
     ]
    }
   ],
   "source": [
    "# Program to Print 1 to N numbers\n",
    "\n",
    "n=int(input(\"Enter the number:\"))\n",
    "\n",
    "for i in range(1,n+1):\n",
    "    print(i)"
   ]
  },
  {
   "cell_type": "code",
   "execution_count": 12,
   "metadata": {},
   "outputs": [
    {
     "name": "stdout",
     "output_type": "stream",
     "text": [
      "A : 65\n",
      "B : 66\n",
      "C : 67\n",
      "D : 68\n",
      "E : 69\n",
      "F : 70\n",
      "G : 71\n",
      "H : 72\n",
      "I : 73\n",
      "J : 74\n",
      "K : 75\n",
      "L : 76\n",
      "M : 77\n",
      "N : 78\n",
      "O : 79\n",
      "P : 80\n",
      "Q : 81\n",
      "R : 82\n",
      "S : 83\n",
      "T : 84\n",
      "U : 85\n",
      "V : 86\n",
      "W : 87\n",
      "X : 88\n",
      "Y : 89\n",
      "Z : 90\n"
     ]
    }
   ],
   "source": [
    "# Program to display A-Z alphabets with ASCII values\n",
    "# Print the uppercase English alphabet from 'A' to 'Z' with ASCII values\n",
    "for ch in range(ord('A'), ord('Z') + 1):\n",
    "    print(chr(ch) + \" : \" + str(ch))"
   ]
  },
  {
   "cell_type": "code",
   "execution_count": 15,
   "metadata": {},
   "outputs": [
    {
     "name": "stdout",
     "output_type": "stream",
     "text": [
      "Sum of numbers from 1 and 5 is: 15\n"
     ]
    }
   ],
   "source": [
    "# Sum of First N numbers:\n",
    "\n",
    "n=int(input(\"Enter the number:\"))\n",
    "\n",
    "sum=0\n",
    "for i in range(1,n+1):\n",
    "    sum+=i\n",
    "    \n",
    "print(f\"Sum of numbers from 1 and {n} is: {sum}\")"
   ]
  },
  {
   "cell_type": "code",
   "execution_count": 18,
   "metadata": {},
   "outputs": [
    {
     "name": "stdout",
     "output_type": "stream",
     "text": [
      "factorial of given number 5 from 1 is: 120\n"
     ]
    }
   ],
   "source": [
    "# Find factorial for given number:\n",
    "\n",
    "n=int(input(\"Enter the num:\"))\n",
    "\n",
    "fact=1\n",
    "\n",
    "for i in range(1,n+1):\n",
    "    fact*=i\n",
    "\n",
    "print(f\"factorial of given number {n} from 1 is: {fact}\")"
   ]
  },
  {
   "cell_type": "code",
   "execution_count": 21,
   "metadata": {},
   "outputs": [
    {
     "name": "stdout",
     "output_type": "stream",
     "text": [
      "2*1 =2\n",
      "2*2 =4\n",
      "2*3 =6\n",
      "2*4 =8\n",
      "2*5 =10\n",
      "2*6 =12\n",
      "2*7 =14\n",
      "2*8 =16\n",
      "2*9 =18\n",
      "2*10 =20\n"
     ]
    }
   ],
   "source": [
    "# Multiplication table program:\n",
    "\n",
    "n=int(input(\"Enter the table num:\"))\n",
    "\n",
    "for i in range(0,10):\n",
    "    i+=1\n",
    "    print(f\"{n}*{i} ={n*i}\")\n",
    "    "
   ]
  },
  {
   "cell_type": "code",
   "execution_count": 22,
   "metadata": {},
   "outputs": [
    {
     "name": "stdout",
     "output_type": "stream",
     "text": [
      "0 : \u0000\n",
      "1 : \u0001\n",
      "2 : \u0002\n",
      "3 : \u0003\n",
      "4 : \u0004\n",
      "5 : \u0005\n",
      "6 : \u0006\n",
      "7 : \u0007\n",
      "8 :\n",
      "9 : \t\n",
      "10 : \n",
      "\n",
      "11 : \u000b\n",
      "12 : \f\n",
      "13 : \n",
      "14 : \u000e\n",
      "15 : \u000f\n",
      "16 : \u0010\n",
      "17 : \u0011\n",
      "18 : \u0012\n",
      "19 : \u0013\n",
      "20 : \u0014\n",
      "21 : \u0015\n",
      "22 : \u0016\n",
      "23 : \u0017\n",
      "24 : \u0018\n",
      "25 : \u0019\n",
      "26 : \u001a\n",
      "27 : \u001b\n",
      "28 : \u001c\n",
      "29 : \u001d\n",
      "30 : \u001e\n",
      "31 : \u001f\n",
      "32 :  \n",
      "33 : !\n",
      "34 : \"\n",
      "35 : #\n",
      "36 : $\n",
      "37 : %\n",
      "38 : &\n",
      "39 : '\n",
      "40 : (\n",
      "41 : )\n",
      "42 : *\n",
      "43 : +\n",
      "44 : ,\n",
      "45 : -\n",
      "46 : .\n",
      "47 : /\n",
      "48 : 0\n",
      "49 : 1\n",
      "50 : 2\n",
      "51 : 3\n",
      "52 : 4\n",
      "53 : 5\n",
      "54 : 6\n",
      "55 : 7\n",
      "56 : 8\n",
      "57 : 9\n",
      "58 : :\n",
      "59 : ;\n",
      "60 : <\n",
      "61 : =\n",
      "62 : >\n",
      "63 : ?\n",
      "64 : @\n",
      "65 : A\n",
      "66 : B\n",
      "67 : C\n",
      "68 : D\n",
      "69 : E\n",
      "70 : F\n",
      "71 : G\n",
      "72 : H\n",
      "73 : I\n",
      "74 : J\n",
      "75 : K\n",
      "76 : L\n",
      "77 : M\n",
      "78 : N\n",
      "79 : O\n",
      "80 : P\n",
      "81 : Q\n",
      "82 : R\n",
      "83 : S\n",
      "84 : T\n",
      "85 : U\n",
      "86 : V\n",
      "87 : W\n",
      "88 : X\n",
      "89 : Y\n",
      "90 : Z\n",
      "91 : [\n",
      "92 : \\\n",
      "93 : ]\n",
      "94 : ^\n",
      "95 : _\n",
      "96 : `\n",
      "97 : a\n",
      "98 : b\n",
      "99 : c\n",
      "100 : d\n",
      "101 : e\n",
      "102 : f\n",
      "103 : g\n",
      "104 : h\n",
      "105 : i\n",
      "106 : j\n",
      "107 : k\n",
      "108 : l\n",
      "109 : m\n",
      "110 : n\n",
      "111 : o\n",
      "112 : p\n",
      "113 : q\n",
      "114 : r\n",
      "115 : s\n",
      "116 : t\n",
      "117 : u\n",
      "118 : v\n",
      "119 : w\n",
      "120 : x\n",
      "121 : y\n",
      "122 : z\n",
      "123 : {\n",
      "124 : |\n",
      "125 : }\n",
      "126 : ~\n",
      "127 : \n",
      "128 : \n",
      "129 : \n",
      "130 : \n",
      "131 : \n",
      "132 : \n",
      "133 : \n",
      "134 : \n",
      "135 : \n",
      "136 : \n",
      "137 : \n",
      "138 : \n",
      "139 : \n",
      "140 : \n",
      "141 : \n",
      "142 : \n",
      "143 : \n",
      "144 : \n",
      "145 : \n",
      "146 : \n",
      "147 : \n",
      "148 : \n",
      "149 : \n",
      "150 : \n",
      "151 : \n",
      "152 : \n",
      "153 : \n",
      "154 : \n",
      "155 : \n",
      "156 : \n",
      "157 : \n",
      "158 : \n",
      "159 : \n",
      "160 :  \n",
      "161 : ¡\n",
      "162 : ¢\n",
      "163 : £\n",
      "164 : ¤\n",
      "165 : ¥\n",
      "166 : ¦\n",
      "167 : §\n",
      "168 : ¨\n",
      "169 : ©\n",
      "170 : ª\n",
      "171 : «\n",
      "172 : ¬\n",
      "173 : ­\n",
      "174 : ®\n",
      "175 : ¯\n",
      "176 : °\n",
      "177 : ±\n",
      "178 : ²\n",
      "179 : ³\n",
      "180 : ´\n",
      "181 : µ\n",
      "182 : ¶\n",
      "183 : ·\n",
      "184 : ¸\n",
      "185 : ¹\n",
      "186 : º\n",
      "187 : »\n",
      "188 : ¼\n",
      "189 : ½\n",
      "190 : ¾\n",
      "191 : ¿\n",
      "192 : À\n",
      "193 : Á\n",
      "194 : Â\n",
      "195 : Ã\n",
      "196 : Ä\n",
      "197 : Å\n",
      "198 : Æ\n",
      "199 : Ç\n",
      "200 : È\n",
      "201 : É\n",
      "202 : Ê\n",
      "203 : Ë\n",
      "204 : Ì\n",
      "205 : Í\n",
      "206 : Î\n",
      "207 : Ï\n",
      "208 : Ð\n",
      "209 : Ñ\n",
      "210 : Ò\n",
      "211 : Ó\n",
      "212 : Ô\n",
      "213 : Õ\n",
      "214 : Ö\n",
      "215 : ×\n",
      "216 : Ø\n",
      "217 : Ù\n",
      "218 : Ú\n",
      "219 : Û\n",
      "220 : Ü\n",
      "221 : Ý\n",
      "222 : Þ\n",
      "223 : ß\n",
      "224 : à\n",
      "225 : á\n",
      "226 : â\n",
      "227 : ã\n",
      "228 : ä\n",
      "229 : å\n",
      "230 : æ\n",
      "231 : ç\n",
      "232 : è\n",
      "233 : é\n",
      "234 : ê\n",
      "235 : ë\n",
      "236 : ì\n",
      "237 : í\n",
      "238 : î\n",
      "239 : ï\n",
      "240 : ð\n",
      "241 : ñ\n",
      "242 : ò\n",
      "243 : ó\n",
      "244 : ô\n",
      "245 : õ\n",
      "246 : ö\n",
      "247 : ÷\n",
      "248 : ø\n",
      "249 : ù\n",
      "250 : ú\n",
      "251 : û\n",
      "252 : ü\n",
      "253 : ý\n",
      "254 : þ\n",
      "255 : ÿ\n"
     ]
    }
   ],
   "source": [
    "# Program to display ASCII character set\n",
    "\n",
    "# Print all ASCII characters with their ASCII values from 0 to 255\n",
    "for i in range(256):\n",
    "    print(i, \":\", chr(i))"
   ]
  },
  {
   "cell_type": "code",
   "execution_count": null,
   "metadata": {},
   "outputs": [],
   "source": []
  }
 ],
 "metadata": {
  "kernelspec": {
   "display_name": "Python 3",
   "language": "python",
   "name": "python3"
  },
  "language_info": {
   "codemirror_mode": {
    "name": "ipython",
    "version": 3
   },
   "file_extension": ".py",
   "mimetype": "text/x-python",
   "name": "python",
   "nbconvert_exporter": "python",
   "pygments_lexer": "ipython3",
   "version": "3.12.5"
  }
 },
 "nbformat": 4,
 "nbformat_minor": 2
}
